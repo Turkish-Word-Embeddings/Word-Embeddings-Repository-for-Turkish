{
 "cells": [
  {
   "cell_type": "code",
   "execution_count": null,
   "metadata": {},
   "outputs": [],
   "source": [
    "import numpy as np\n",
    "from gensim.models import KeyedVectors\n",
    "\n",
    "WORDVECTORS = \"../word2vec/word2vec_10epoch.wordvectors\"\n",
    "BIAS_COMPONENT = \"gender-vector\""
   ]
  },
  {
   "cell_type": "code",
   "execution_count": null,
   "metadata": {},
   "outputs": [],
   "source": [
    "# subtract the bias component from the word vector\n",
    "def neutralize(word, component, wordvectors):\n",
    "    e = wordvectors[word]\n",
    "    e_biascomponent = (np.transpose(e) @ component) / (np.sum(np.square(component))) * component\n",
    "    e_debiased = e - e_biascomponent\n",
    "\n",
    "    return e_debiased"
   ]
  },
  {
   "cell_type": "code",
   "execution_count": null,
   "metadata": {},
   "outputs": [],
   "source": [
    "word_vectors = KeyedVectors.load_word2vec_format(WORDVECTORS, binary=True)"
   ]
  },
  {
   "cell_type": "code",
   "execution_count": null,
   "metadata": {},
   "outputs": [],
   "source": [
    "cinsiyet = word_vectors['kadın'] - word_vectors['adam']\n",
    "word_vectors.add_vector(BIAS_COMPONENT, cinsiyet)"
   ]
  },
  {
   "cell_type": "code",
   "execution_count": null,
   "metadata": {},
   "outputs": [],
   "source": [
    "def debias(word, word_vectors, bias_component, rename):\n",
    "    print(\"cosine similarity between \" + word + \" and + \" + bias_component + \", before neutralizing: \",  word_vectors.similarity(word, BIAS_COMPONENT))\n",
    "    e_debiased = neutralize(\"doktor\", cinsiyet, word_vectors)\n",
    "    word_vectors.add_vector(rename, e_debiased)\n",
    "    print(\"cosine similarity between \" + word + \" and + \"  + bias_component + \", before neutralizing: \", word_vectors.similarity(rename, BIAS_COMPONENT))"
   ]
  }
 ],
 "metadata": {
  "kernelspec": {
   "display_name": "env",
   "language": "python",
   "name": "python3"
  },
  "language_info": {
   "codemirror_mode": {
    "name": "ipython",
    "version": 3
   },
   "file_extension": ".py",
   "mimetype": "text/x-python",
   "name": "python",
   "nbconvert_exporter": "python",
   "pygments_lexer": "ipython3",
   "version": "3.9.13"
  },
  "orig_nbformat": 4
 },
 "nbformat": 4,
 "nbformat_minor": 2
}
