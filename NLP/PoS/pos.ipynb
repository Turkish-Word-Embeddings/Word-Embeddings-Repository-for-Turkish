{
 "cells": [
  {
   "attachments": {},
   "cell_type": "markdown",
   "metadata": {},
   "source": [
    "### To run the code, you should have the dataset in the same folder:\n",
    "```bash\n",
    "PoS\n",
    "├── data\n",
    "│   ├── tr_boun-ud-dev.conllu\n",
    "│   ├── tr_boun-ud-test.conllu\n",
    "│   ├── tr_boun-ud-train.conllu\n",
    "|   └─────────────────\n",
    "├── pos.ipynb\n",
    "├── results.txt\n",
    "└── README.md\n",
    "```"
   ]
  },
  {
   "cell_type": "code",
   "execution_count": 1,
   "metadata": {},
   "outputs": [],
   "source": [
    "import numpy as np\n",
    "import pandas as pd\n",
    "import tensorflow as tf\n",
    "import gensim"
   ]
  },
  {
   "cell_type": "code",
   "execution_count": 4,
   "metadata": {},
   "outputs": [
    {
     "name": "stdout",
     "output_type": "stream",
     "text": [
      "['Bizimkiler', 'konuşuyorlar', '.'] : ['_', 'VERB', 'PUNCT']\n"
     ]
    }
   ],
   "source": [
    "def read_conllu(path):\n",
    "    # create a dataframe consisting of word and PoS tag\n",
    "    sentences = []\n",
    "    with open(path, 'r', encoding=\"utf-8\") as f:\n",
    "        data = f.readlines()\n",
    "        r = len(data)\n",
    "        i = 0\n",
    "        while(i < r):\n",
    "            if(data[i][0] == '#'):\n",
    "                # two lines\n",
    "                sentence = []\n",
    "                pos_representation = []\n",
    "                i += 2\n",
    "                while(data[i][0] != '\\n'):\n",
    "                    dt = data[i].strip().split(\"\\t\")\n",
    "\n",
    "                    index = dt[0]\n",
    "                    word = dt[1]\n",
    "                    pos = dt[3]\n",
    "                    pos_representation.append(pos)\n",
    "                    sentence.append(word)\n",
    "\n",
    "                    i += 1\n",
    "                    if('-' in index): i += 2\n",
    "                i += 1\n",
    "                sentences.append((sentence, pos_representation))\n",
    "        return sentences\n",
    "\n",
    "# read test, dev and train csv files\n",
    "train = read_conllu(\"data/tr_boun-ud-train.conllu\")\n",
    "dev =  read_conllu(\"data/tr_boun-ud-dev.conllu\")\n",
    "test =  read_conllu(\"data/tr_boun-ud-test.conllu\")\n",
    "\n",
    "import random\n",
    "sentence, pos_repr = random.choice(train)\n",
    "print(sentence, \":\", pos_repr)\n"
   ]
  },
  {
   "cell_type": "code",
   "execution_count": 5,
   "metadata": {},
   "outputs": [
    {
     "data": {
      "text/plain": [
       "(7803, 979, 979)"
      ]
     },
     "execution_count": 5,
     "metadata": {},
     "output_type": "execute_result"
    }
   ],
   "source": [
    "\n",
    "# create a dataframe\n",
    "traindf = pd.DataFrame(\n",
    "    {'sentence': [i[0] for i in train],\n",
    "        'pos': [i[1] for i in train]\n",
    "    })\n",
    "\n",
    "testdf = pd.DataFrame(\n",
    "    {'sentence': [i[0] for i in test],\n",
    "        'pos': [i[1] for i in test]\n",
    "    })\n",
    "\n",
    "devdf = pd.DataFrame(\n",
    "    {'sentence': [i[0] for i in dev],\n",
    "        'pos': [i[1] for i in dev]\n",
    "    })\n",
    "\n",
    "\n",
    "traindf.head(1), devdf.head(1), testdf.head(1)\n",
    "len(traindf), len(devdf), len(testdf)"
   ]
  },
  {
   "cell_type": "code",
   "execution_count": 6,
   "metadata": {},
   "outputs": [
    {
     "data": {
      "text/plain": [
       "(['1936', 'yılındayız', '.'], ['NUM', '_', 'PUNCT'])"
      ]
     },
     "execution_count": 6,
     "metadata": {},
     "output_type": "execute_result"
    }
   ],
   "source": [
    "trainx = traindf['sentence']\n",
    "trainy = traindf['pos']\n",
    "\n",
    "trainx[0], trainy[0]"
   ]
  },
  {
   "cell_type": "code",
   "execution_count": 7,
   "metadata": {},
   "outputs": [
    {
     "name": "stdout",
     "output_type": "stream",
     "text": [
      "| X\n",
      "batıl X\n",
      "■ X\n",
      "tefek X\n"
     ]
    }
   ],
   "source": [
    "# find sentence where one word has tag X\n",
    "# replace them with tag '_'\n",
    "for i in range(len(trainx)):\n",
    "    for j in range(len(trainx[i])):\n",
    "        if(trainy[i][j] == 'X'):\n",
    "            print(trainx[i][j], trainy[i][j])\n",
    "            trainy[i][j] = '_'"
   ]
  },
  {
   "cell_type": "code",
   "execution_count": 8,
   "metadata": {},
   "outputs": [],
   "source": [
    "####### VECTORIZATION #######\n",
    "word_tokenizer = tf.keras.preprocessing.text.Tokenizer()\n",
    "word_tokenizer.fit_on_texts(trainx)                    # fit tokeniser on data\n",
    "X_encoded = word_tokenizer.texts_to_sequences(trainx)  # use the tokeniser to encode input sequence"
   ]
  },
  {
   "cell_type": "code",
   "execution_count": 9,
   "metadata": {},
   "outputs": [],
   "source": [
    "####### VECTORIZATION #######\n",
    "tag_tokenizer = tf.keras.preprocessing.text.Tokenizer()\n",
    "tag_tokenizer.fit_on_texts(trainy)                    # fit tokeniser on data\n",
    "Y_encoded = tag_tokenizer.texts_to_sequences(trainy)  # use the tokeniser to encode input sequence"
   ]
  },
  {
   "cell_type": "code",
   "execution_count": 10,
   "metadata": {},
   "outputs": [
    {
     "name": "stdout",
     "output_type": "stream",
     "text": [
      "0 sentences have disparate input-output lengths.\n"
     ]
    }
   ],
   "source": [
    "# make sure that each sequence of input and output is same length\n",
    "\n",
    "different_length = [1 if len(input) != len(output) else 0 for input, output in zip(X_encoded, Y_encoded)]\n",
    "print(\"{} sentences have disparate input-output lengths.\".format(sum(different_length)))"
   ]
  },
  {
   "cell_type": "code",
   "execution_count": 11,
   "metadata": {},
   "outputs": [
    {
     "name": "stdout",
     "output_type": "stream",
     "text": [
      "Length of longest sentence: 130\n"
     ]
    }
   ],
   "source": [
    "lengths = [len(seq) for seq in X_encoded]\n",
    "print(\"Length of longest sentence: {}\".format(max(lengths)))"
   ]
  },
  {
   "cell_type": "code",
   "execution_count": 12,
   "metadata": {},
   "outputs": [
    {
     "data": {
      "image/png": "[encoded data removed]",
      "text/plain": [
       "<Figure size 640x480 with 1 Axes>"
      ]
     },
     "metadata": {},
     "output_type": "display_data"
    }
   ],
   "source": [
    "import seaborn as sns\n",
    "import matplotlib.pyplot as plt\n",
    "\n",
    "sns.boxplot(lengths, orient='h')\n",
    "plt.title(\"Boxplot of sentence lengths\")\n",
    "plt.show()"
   ]
  },
  {
   "cell_type": "code",
   "execution_count": 13,
   "metadata": {},
   "outputs": [],
   "source": [
    "MAX_SEQ_LENGTH = 130  # sequences greater than MAX_SEQ_LENGTH in length will be truncated\n",
    "\n",
    "X_padded = tf.keras.preprocessing.sequence.pad_sequences(X_encoded, maxlen=MAX_SEQ_LENGTH, padding=\"pre\", truncating=\"post\")\n",
    "Y_padded = tf.keras.preprocessing.sequence.pad_sequences(Y_encoded, maxlen=MAX_SEQ_LENGTH, padding=\"pre\", truncating=\"post\")"
   ]
  },
  {
   "cell_type": "code",
   "execution_count": 14,
   "metadata": {},
   "outputs": [
    {
     "name": "stdout",
     "output_type": "stream",
     "text": [
      "[   0    0    0    0    0    0    0    0    0    0    0    0    0    0\n",
      "    0    0    0    0    0    0    0    0    0    0    0    0    0    0\n",
      "    0    0    0    0    0    0    0    0    0    0    0    0    0    0\n",
      "    0    0    0    0    0    0    0    0    0    0    0    0    0    0\n",
      "    0    0    0    0    0    0    0    0    0    0    0    0    0    0\n",
      "    0    0    0    0    0    0    0    0    0    0    0    0    0    0\n",
      "    0    0    0    0    0    0    0    0    0    0    0    0    0    0\n",
      "    0    0    0    0    0    0    0    0    0    0    0    0    0    0\n",
      "    0    0    0    0    0    0    0    0    0    0    0    0    0    0\n",
      "    0 4876 9001    1] \n",
      "\n",
      "\n",
      "\n",
      "[ 0  0  0  0  0  0  0  0  0  0  0  0  0  0  0  0  0  0  0  0  0  0  0  0\n",
      "  0  0  0  0  0  0  0  0  0  0  0  0  0  0  0  0  0  0  0  0  0  0  0  0\n",
      "  0  0  0  0  0  0  0  0  0  0  0  0  0  0  0  0  0  0  0  0  0  0  0  0\n",
      "  0  0  0  0  0  0  0  0  0  0  0  0  0  0  0  0  0  0  0  0  0  0  0  0\n",
      "  0  0  0  0  0  0  0  0  0  0  0  0  0  0  0  0  0  0  0  0  0  0  0  0\n",
      "  0  0  0  0  0  0  0 11  8  2]\n"
     ]
    }
   ],
   "source": [
    "print(X_padded[0], \"\\n\"*3)\n",
    "print(Y_padded[0])"
   ]
  },
  {
   "cell_type": "code",
   "execution_count": 16,
   "metadata": {},
   "outputs": [
    {
     "name": "stdout",
     "output_type": "stream",
     "text": [
      "loading word embeddings...\n"
     ]
    }
   ],
   "source": [
    "MODEL = \"C:/Users/karab/Desktop/Models/word2vec_10ep-300emb.bin\"\n",
    "EMBEDDING_SIZE  = 300  # each word in word2vec model is represented using a 300 dimensional vector\n",
    "VOCABULARY_SIZE = len(word_tokenizer.word_index) + 1\n",
    "\n",
    "#load fasttext embeddings\n",
    "print('loading word embeddings...')\n",
    "word_vectors = gensim.models.KeyedVectors.load_word2vec_format(\n",
    "    MODEL,\n",
    "    binary=True,\n",
    "    no_header=False)"
   ]
  },
  {
   "cell_type": "code",
   "execution_count": 17,
   "metadata": {},
   "outputs": [],
   "source": [
    "# create an empty embedding matrix\n",
    "embedding_weights = np.zeros((VOCABULARY_SIZE, EMBEDDING_SIZE))\n",
    "word2id = word_tokenizer.word_index\n",
    "for word, index in word2id.items():\n",
    "    try:  embedding_weights[index, :] = word_vectors[word]\n",
    "    except KeyError: pass"
   ]
  },
  {
   "cell_type": "code",
   "execution_count": 18,
   "metadata": {},
   "outputs": [
    {
     "name": "stdout",
     "output_type": "stream",
     "text": [
      "Embeddings shape: (30215, 300)\n"
     ]
    }
   ],
   "source": [
    "print(\"Embeddings shape: {}\".format(embedding_weights.shape))"
   ]
  },
  {
   "cell_type": "code",
   "execution_count": 19,
   "metadata": {},
   "outputs": [
    {
     "name": "stdout",
     "output_type": "stream",
     "text": [
      "(7803, 130, 17)\n"
     ]
    }
   ],
   "source": [
    "Y_final = tf.keras.utils.to_categorical(Y_padded)\n",
    "# print Y of the first output sequqnce\n",
    "print(Y_final.shape)  # (number of sequences, length of each sequence, number of tags)"
   ]
  },
  {
   "cell_type": "code",
   "execution_count": 20,
   "metadata": {},
   "outputs": [],
   "source": [
    "### Perform all the operations for dev set ###\n",
    "devx = devdf['sentence']\n",
    "devy = devdf['pos']\n",
    "\n",
    "devx_encoded = word_tokenizer.texts_to_sequences(devx)\n",
    "devy_encoded = tag_tokenizer.texts_to_sequences(devy)\n",
    "\n",
    "devx_padded = tf.keras.preprocessing.sequence.pad_sequences(devx_encoded, maxlen=MAX_SEQ_LENGTH, padding=\"pre\", truncating=\"post\")\n",
    "devy_padded = tf.keras.preprocessing.sequence.pad_sequences(devy_encoded, maxlen=MAX_SEQ_LENGTH, padding=\"pre\", truncating=\"post\")\n",
    "\n",
    "devy_final= tf.keras.utils.to_categorical(devy_padded)"
   ]
  },
  {
   "cell_type": "code",
   "execution_count": 21,
   "metadata": {},
   "outputs": [],
   "source": [
    "### Perform all the operations for test set ###\n",
    "testx = testdf['sentence']\n",
    "testy = testdf['pos']\n",
    "\n",
    "testx_encoded = word_tokenizer.texts_to_sequences(testx)\n",
    "testy_encoded = tag_tokenizer.texts_to_sequences(testy)\n",
    "\n",
    "testx_padded = tf.keras.preprocessing.sequence.pad_sequences(testx_encoded, maxlen=MAX_SEQ_LENGTH, padding=\"pre\", truncating=\"post\")\n",
    "testy_padded = tf.keras.preprocessing.sequence.pad_sequences(testy_encoded, maxlen=MAX_SEQ_LENGTH, padding=\"pre\", truncating=\"post\")\n",
    "\n",
    "testy_final = tf.keras.utils.to_categorical(testy_padded)"
   ]
  },
  {
   "cell_type": "code",
   "execution_count": 22,
   "metadata": {},
   "outputs": [
    {
     "name": "stdout",
     "output_type": "stream",
     "text": [
      "TRAINING DATA\n",
      "Shape of input sequences: (7803, 130)\n",
      "Shape of output sequences: (7803, 130, 17)\n",
      "--------------------------------------------------\n",
      "VALIDATION DATA\n",
      "Shape of input sequences: (979, 130)\n",
      "Shape of output sequences: (979, 130, 17)\n",
      "--------------------------------------------------\n",
      "TESTING DATA\n",
      "Shape of input sequences: (979, 130)\n",
      "Shape of output sequences: (979, 130, 17)\n"
     ]
    }
   ],
   "source": [
    "print(\"TRAINING DATA\")\n",
    "print('Shape of input sequences: {}'.format(X_padded.shape))\n",
    "print('Shape of output sequences: {}'.format(Y_final.shape))\n",
    "print(\"-\"*50)\n",
    "print(\"VALIDATION DATA\")\n",
    "print('Shape of input sequences: {}'.format(devx_padded.shape))\n",
    "print('Shape of output sequences: {}'.format(devy_final.shape))\n",
    "print(\"-\"*50)\n",
    "print(\"TESTING DATA\")\n",
    "print('Shape of input sequences: {}'.format(testx_padded.shape))\n",
    "print('Shape of output sequences: {}'.format(testy_final.shape))"
   ]
  },
  {
   "cell_type": "code",
   "execution_count": 23,
   "metadata": {},
   "outputs": [
    {
     "name": "stdout",
     "output_type": "stream",
     "text": [
      "Unique elements in trainy: {'CCONJ', 'VERB', 'PUNCT', 'DET', 'ADJ', 'NOUN', '_', 'INTJ', 'AUX', 'ADP', 'ADV', 'PRON', 'PROPN', 'SCONJ', 'PART', 'NUM'}\n",
      "Unique elements in devy: {'CCONJ', 'PART', 'VERB', 'PUNCT', 'ADJ', 'DET', 'NOUN', '_', 'AUX', 'ADP', 'ADV', 'PRON', 'PROPN', 'SCONJ', 'INTJ', 'NUM'}\n",
      "Unique elements in testy: {'CCONJ', 'VERB', 'PUNCT', 'DET', 'ADJ', 'NOUN', '_', 'INTJ', 'AUX', 'ADP', 'PRON', 'ADV', 'PROPN', 'SCONJ', 'PART', 'NUM'}\n"
     ]
    }
   ],
   "source": [
    "# print unique elements in trainy\n",
    "print(\"Unique elements in trainy: {}\".format(set([item for sublist in trainy for item in sublist])))\n",
    "# print unique elements in devy\n",
    "print(\"Unique elements in devy: {}\".format(set([item for sublist in devy for item in sublist])))\n",
    "# print unique elements in testy\n",
    "print(\"Unique elements in testy: {}\".format(set([item for sublist in testy for item in sublist])))"
   ]
  },
  {
   "cell_type": "code",
   "execution_count": 24,
   "metadata": {},
   "outputs": [
    {
     "data": {
      "text/plain": [
       "17"
      ]
     },
     "execution_count": 24,
     "metadata": {},
     "output_type": "execute_result"
    }
   ],
   "source": [
    "# total number of tags\n",
    "NUM_CLASSES = Y_final.shape[2]\n",
    "NUM_CLASSES"
   ]
  },
  {
   "cell_type": "code",
   "execution_count": 25,
   "metadata": {},
   "outputs": [],
   "source": [
    "# import tensorflow\n",
    "from tensorflow.keras.models import Sequential\n",
    "from tensorflow.keras.layers import Dense, LSTM, Bidirectional, TimeDistributed, Embedding\n",
    "\n",
    "bidirect_model = Sequential()\n",
    "bidirect_model.add(Embedding(input_dim     = VOCABULARY_SIZE,\n",
    "                             output_dim    = EMBEDDING_SIZE,\n",
    "                             input_length  = MAX_SEQ_LENGTH,\n",
    "                             weights       = [embedding_weights],\n",
    "                             trainable     = False\n",
    "))\n",
    "bidirect_model.add(Bidirectional(LSTM(16, return_sequences=True)))\n",
    "bidirect_model.add(TimeDistributed(Dense(NUM_CLASSES, activation='softmax')))"
   ]
  },
  {
   "cell_type": "code",
   "execution_count": 26,
   "metadata": {},
   "outputs": [],
   "source": [
    "bidirect_model.compile(loss='categorical_crossentropy',\n",
    "              optimizer='adam',\n",
    "              metrics=['acc'])"
   ]
  },
  {
   "cell_type": "code",
   "execution_count": 27,
   "metadata": {},
   "outputs": [
    {
     "name": "stdout",
     "output_type": "stream",
     "text": [
      "Model: \"sequential\"\n",
      "_________________________________________________________________\n",
      " Layer (type)                Output Shape              Param #   \n",
      "=================================================================\n",
      " embedding (Embedding)       (None, 130, 300)          9064500   \n",
      "                                                                 \n",
      " bidirectional (Bidirectiona  (None, 130, 32)          40576     \n",
      " l)                                                              \n",
      "                                                                 \n",
      " time_distributed (TimeDistr  (None, 130, 17)          561       \n",
      " ibuted)                                                         \n",
      "                                                                 \n",
      "=================================================================\n",
      "Total params: 9,105,637\n",
      "Trainable params: 41,137\n",
      "Non-trainable params: 9,064,500\n",
      "_________________________________________________________________\n"
     ]
    }
   ],
   "source": [
    "bidirect_model.summary()"
   ]
  },
  {
   "cell_type": "code",
   "execution_count": 28,
   "metadata": {},
   "outputs": [
    {
     "name": "stdout",
     "output_type": "stream",
     "text": [
      "Epoch 1/5\n",
      "61/61 [==============================] - 6s 28ms/step - loss: 1.7483 - acc: 0.9189 - val_loss: 0.3839 - val_acc: 0.9264\n",
      "Epoch 2/5\n",
      "61/61 [==============================] - 1s 20ms/step - loss: 0.2395 - acc: 0.9442 - val_loss: 0.2971 - val_acc: 0.9336\n",
      "Epoch 3/5\n",
      "61/61 [==============================] - 1s 20ms/step - loss: 0.1789 - acc: 0.9526 - val_loss: 0.2932 - val_acc: 0.9352\n",
      "Epoch 4/5\n",
      "61/61 [==============================] - 1s 20ms/step - loss: 0.1522 - acc: 0.9614 - val_loss: 0.2960 - val_acc: 0.9349\n",
      "Epoch 5/5\n",
      "61/61 [==============================] - 1s 20ms/step - loss: 0.1331 - acc: 0.9656 - val_loss: 0.2991 - val_acc: 0.9350\n"
     ]
    }
   ],
   "source": [
    "bidirect_training = bidirect_model.fit(X_padded, Y_final, batch_size=128, epochs=5, validation_data=(devx_padded, devy_final))"
   ]
  },
  {
   "cell_type": "code",
   "execution_count": 29,
   "metadata": {},
   "outputs": [
    {
     "data": {
      "image/png": "[encoded data removed]",
      "text/plain": [
       "<Figure size 640x480 with 1 Axes>"
      ]
     },
     "metadata": {},
     "output_type": "display_data"
    }
   ],
   "source": [
    "# visualise training history\n",
    "plt.plot(bidirect_training.history['acc'])\n",
    "plt.plot(bidirect_training.history['val_acc'])\n",
    "plt.title('model accuracy')\n",
    "plt.grid()\n",
    "plt.ylabel('accuracy')\n",
    "plt.xlabel('epoch')\n",
    "plt.legend(['train', 'test'], loc=\"lower right\")\n",
    "plt.show()"
   ]
  },
  {
   "cell_type": "code",
   "execution_count": 30,
   "metadata": {},
   "outputs": [
    {
     "name": "stdout",
     "output_type": "stream",
     "text": [
      "31/31 [==============================] - 0s 8ms/step - loss: 0.2976 - acc: 0.9362\n",
      "Loss: 0.2976217269897461,\n",
      "Accuracy: 0.9362065196037292\n"
     ]
    }
   ],
   "source": [
    "loss, accuracy = bidirect_model.evaluate(testx_padded, testy_final, verbose = 1)\n",
    "print(\"Loss: {0},\\nAccuracy: {1}\".format(loss, accuracy))"
   ]
  }
 ],
 "metadata": {
  "kernelspec": {
   "display_name": "env",
   "language": "python",
   "name": "python3"
  },
  "language_info": {
   "codemirror_mode": {
    "name": "ipython",
    "version": 3
   },
   "file_extension": ".py",
   "mimetype": "text/x-python",
   "name": "python",
   "nbconvert_exporter": "python",
   "pygments_lexer": "ipython3",
   "version": "3.9.13"
  },
  "orig_nbformat": 4
 },
 "nbformat": 4,
 "nbformat_minor": 2
}
