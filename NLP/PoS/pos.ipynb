{
 "cells": [
  {
   "attachments": {},
   "cell_type": "markdown",
   "metadata": {},
   "source": [
    "### To run the code, you should have the dataset in the same folder:\n",
    "```bash\n",
    "PoS\n",
    "├── BOUN Dataset\n",
    "│   ├── tr_boun-ud-dev.conllu\n",
    "│   ├── tr_boun-ud-test.conllu\n",
    "│   ├── tr_boun-ud-train.conllu\n",
    "|   └─────────────────\n",
    "├── pos.ipynb\n",
    "├── results.txt\n",
    "└── README.md\n",
    "```"
   ]
  },
  {
   "cell_type": "code",
   "execution_count": 127,
   "metadata": {},
   "outputs": [],
   "source": [
    "import numpy as np\n",
    "import pandas as pd\n",
    "import tensorflow as tf\n",
    "import gensim"
   ]
  },
  {
   "cell_type": "code",
   "execution_count": 128,
   "metadata": {},
   "outputs": [
    {
     "name": "stdout",
     "output_type": "stream",
     "text": [
      "['Para', 'insanlara', 'ulaşmak', 'istediği', 'herşeye', 'ulaşma', 'imkanı', 'sağlarken', ';', 'aynı', 'zamanda', 'insanların', 'duygu', 've', 'düşüncelerinde', 'de', 'değişimlere', 'neden', 'olmaktadır', '.'] : ['NOUN', 'NOUN', 'VERB', 'VERB', '_', 'VERB', 'NOUN', '_', 'PUNCT', 'ADV', 'NOUN', 'NOUN', 'NOUN', 'CCONJ', 'NOUN', 'PART', 'NOUN', 'NOUN', 'VERB', 'PUNCT']\n"
     ]
    }
   ],
   "source": [
    "def read_conllu(path):\n",
    "    # create a dataframe consisting of word and PoS tag\n",
    "    sentences = []\n",
    "    with open(path, 'r', encoding=\"utf-8\") as f:\n",
    "        data = f.readlines()\n",
    "        r = len(data)\n",
    "        i = 0\n",
    "        while(i < r):\n",
    "            if(data[i][0] == '#'):\n",
    "                # two lines\n",
    "                sentence = []\n",
    "                pos_representation = []\n",
    "                i += 2\n",
    "                while(data[i][0] != '\\n'):\n",
    "                    dt = data[i].strip().split(\"\\t\")\n",
    "\n",
    "                    index = dt[0]\n",
    "                    word = dt[1]\n",
    "                    pos = dt[3]\n",
    "                    pos_representation.append(pos)\n",
    "                    sentence.append(word)\n",
    "\n",
    "                    i += 1\n",
    "                    if('-' in index): i += 2\n",
    "                i += 1\n",
    "                sentences.append((sentence, pos_representation))\n",
    "        return sentences\n",
    "\n",
    "\n",
    "# read test, dev and train csv files\n",
    "train = read_conllu(\"BOUN Dataset/tr_boun-ud-train.conllu\")\n",
    "dev =  read_conllu(\"BOUN Dataset/tr_boun-ud-dev.conllu\")\n",
    "test =  read_conllu(\"BOUN Dataset/tr_boun-ud-test.conllu\")\n",
    "\n",
    "import random\n",
    "sentence, pos_repr = random.choice(train)\n",
    "print(sentence, \":\", pos_repr)\n"
   ]
  },
  {
   "cell_type": "code",
   "execution_count": 129,
   "metadata": {},
   "outputs": [
    {
     "data": {
      "text/plain": [
       "(                sentence              pos\n",
       " 0  [1936, yılındayız, .]  [NUM, _, PUNCT],\n",
       "                                             sentence   \n",
       " 0  [Fakülteyi, bitirenler, en, uçtan, göreve, baş...  \\\n",
       " \n",
       "                                        pos  \n",
       " 0  [NOUN, VERB, ADV, NOUN, NOUN, _, PUNCT]  ,\n",
       "                                             sentence   \n",
       " 0  [Çünkü, ben, de, o, yaşadığı, çevreyi, kirlete...  \\\n",
       " \n",
       "                                                  pos  \n",
       " 0  [SCONJ, PRON, PART, PRON, VERB, NOUN, VERB, VE...  )"
      ]
     },
     "execution_count": 129,
     "metadata": {},
     "output_type": "execute_result"
    }
   ],
   "source": [
    "\n",
    "# create a dataframe\n",
    "traindf = pd.DataFrame(\n",
    "    {'sentence': [i[0] for i in train],\n",
    "        'pos': [i[1] for i in train]\n",
    "    })\n",
    "\n",
    "testdf = pd.DataFrame(\n",
    "    {'sentence': [i[0] for i in test],\n",
    "        'pos': [i[1] for i in test]\n",
    "    })\n",
    "\n",
    "devdf = pd.DataFrame(\n",
    "    {'sentence': [i[0] for i in dev],\n",
    "        'pos': [i[1] for i in dev]\n",
    "    })\n",
    "\n",
    "\n",
    "traindf.head(1), devdf.head(1), testdf.head(1)"
   ]
  },
  {
   "cell_type": "code",
   "execution_count": 130,
   "metadata": {},
   "outputs": [
    {
     "data": {
      "text/plain": [
       "(['1936', 'yılındayız', '.'], ['NUM', '_', 'PUNCT'])"
      ]
     },
     "execution_count": 130,
     "metadata": {},
     "output_type": "execute_result"
    }
   ],
   "source": [
    "trainx = traindf['sentence']\n",
    "trainy = traindf['pos']\n",
    "\n",
    "trainx[0], trainy[0]"
   ]
  },
  {
   "cell_type": "code",
   "execution_count": 131,
   "metadata": {},
   "outputs": [
    {
     "name": "stdout",
     "output_type": "stream",
     "text": [
      "| X\n",
      "batıl X\n",
      "■ X\n",
      "tefek X\n"
     ]
    }
   ],
   "source": [
    "# find sentence where one word has tag X\n",
    "# replace them with tag '_'\n",
    "for i in range(len(trainx)):\n",
    "    for j in range(len(trainx[i])):\n",
    "        if(trainy[i][j] == 'X'):\n",
    "            print(trainx[i][j], trainy[i][j])\n",
    "            trainy[i][j] = '_'"
   ]
  },
  {
   "cell_type": "code",
   "execution_count": 132,
   "metadata": {},
   "outputs": [],
   "source": [
    "####### VECTORIZATION #######\n",
    "word_tokenizer = tf.keras.preprocessing.text.Tokenizer()\n",
    "word_tokenizer.fit_on_texts(trainx)                    # fit tokeniser on data\n",
    "X_encoded = word_tokenizer.texts_to_sequences(trainx)  # use the tokeniser to encode input sequence"
   ]
  },
  {
   "cell_type": "code",
   "execution_count": 133,
   "metadata": {},
   "outputs": [],
   "source": [
    "####### VECTORIZATION #######\n",
    "tag_tokenizer = tf.keras.preprocessing.text.Tokenizer()\n",
    "tag_tokenizer.fit_on_texts(trainy)                    # fit tokeniser on data\n",
    "Y_encoded = tag_tokenizer.texts_to_sequences(trainy)  # use the tokeniser to encode input sequence"
   ]
  },
  {
   "cell_type": "code",
   "execution_count": 134,
   "metadata": {},
   "outputs": [
    {
     "name": "stdout",
     "output_type": "stream",
     "text": [
      "0 sentences have disparate input-output lengths.\n"
     ]
    }
   ],
   "source": [
    "# make sure that each sequence of input and output is same length\n",
    "\n",
    "different_length = [1 if len(input) != len(output) else 0 for input, output in zip(X_encoded, Y_encoded)]\n",
    "print(\"{} sentences have disparate input-output lengths.\".format(sum(different_length)))"
   ]
  },
  {
   "cell_type": "code",
   "execution_count": 135,
   "metadata": {},
   "outputs": [
    {
     "name": "stdout",
     "output_type": "stream",
     "text": [
      "Length of longest sentence: 130\n"
     ]
    }
   ],
   "source": [
    "lengths = [len(seq) for seq in X_encoded]\n",
    "print(\"Length of longest sentence: {}\".format(max(lengths)))"
   ]
  },
  {
   "cell_type": "code",
   "execution_count": 136,
   "metadata": {},
   "outputs": [
    {
     "data": {
      "image/png": "[encoded data removed]",
      "text/plain": [
       "<Figure size 640x480 with 1 Axes>"
      ]
     },
     "metadata": {},
     "output_type": "display_data"
    }
   ],
   "source": [
    "import seaborn as sns\n",
    "import matplotlib.pyplot as plt\n",
    "\n",
    "sns.boxplot(lengths, orient='h')\n",
    "plt.title(\"Boxplot of sentence lengths\")\n",
    "plt.show()"
   ]
  },
  {
   "cell_type": "code",
   "execution_count": 137,
   "metadata": {},
   "outputs": [],
   "source": [
    "MAX_SEQ_LENGTH = 130  # sequences greater than MAX_SEQ_LENGTH in length will be truncated\n",
    "\n",
    "X_padded = tf.keras.preprocessing.sequence.pad_sequences(X_encoded, maxlen=MAX_SEQ_LENGTH, padding=\"pre\", truncating=\"post\")\n",
    "Y_padded = tf.keras.preprocessing.sequence.pad_sequences(Y_encoded, maxlen=MAX_SEQ_LENGTH, padding=\"pre\", truncating=\"post\")"
   ]
  },
  {
   "cell_type": "code",
   "execution_count": 138,
   "metadata": {},
   "outputs": [
    {
     "name": "stdout",
     "output_type": "stream",
     "text": [
      "[   0    0    0    0    0    0    0    0    0    0    0    0    0    0\n",
      "    0    0    0    0    0    0    0    0    0    0    0    0    0    0\n",
      "    0    0    0    0    0    0    0    0    0    0    0    0    0    0\n",
      "    0    0    0    0    0    0    0    0    0    0    0    0    0    0\n",
      "    0    0    0    0    0    0    0    0    0    0    0    0    0    0\n",
      "    0    0    0    0    0    0    0    0    0    0    0    0    0    0\n",
      "    0    0    0    0    0    0    0    0    0    0    0    0    0    0\n",
      "    0    0    0    0    0    0    0    0    0    0    0    0    0    0\n",
      "    0    0    0    0    0    0    0    0    0    0    0    0    0    0\n",
      "    0 4876 9001    1] \n",
      "\n",
      "\n",
      "\n",
      "[ 0  0  0  0  0  0  0  0  0  0  0  0  0  0  0  0  0  0  0  0  0  0  0  0\n",
      "  0  0  0  0  0  0  0  0  0  0  0  0  0  0  0  0  0  0  0  0  0  0  0  0\n",
      "  0  0  0  0  0  0  0  0  0  0  0  0  0  0  0  0  0  0  0  0  0  0  0  0\n",
      "  0  0  0  0  0  0  0  0  0  0  0  0  0  0  0  0  0  0  0  0  0  0  0  0\n",
      "  0  0  0  0  0  0  0  0  0  0  0  0  0  0  0  0  0  0  0  0  0  0  0  0\n",
      "  0  0  0  0  0  0  0 11  8  2]\n"
     ]
    }
   ],
   "source": [
    "print(X_padded[0], \"\\n\"*3)\n",
    "print(Y_padded[0])"
   ]
  },
  {
   "cell_type": "code",
   "execution_count": 311,
   "metadata": {},
   "outputs": [
    {
     "name": "stdout",
     "output_type": "stream",
     "text": [
      "loading word embeddings...\n"
     ]
    }
   ],
   "source": [
    "MODEL = \"C:/Users/karab/Desktop/Models/glove.txt\"\n",
    "EMBEDDING_SIZE  = 300  # each word in word2vec model is represented using a 300 dimensional vector\n",
    "VOCABULARY_SIZE = len(word_tokenizer.word_index) + 1\n",
    "\n",
    "#load fasttext embeddings\n",
    "print('loading word embeddings...')\n",
    "word_vectors = gensim.models.KeyedVectors.load_word2vec_format(\n",
    "            MODEL,\n",
    "            binary=False,\n",
    "            no_header=True\n",
    "        )"
   ]
  },
  {
   "cell_type": "code",
   "execution_count": 312,
   "metadata": {},
   "outputs": [],
   "source": [
    "# create an empty embedding matix\n",
    "embedding_weights = np.zeros((VOCABULARY_SIZE, EMBEDDING_SIZE))\n",
    "word2id = word_tokenizer.word_index\n",
    "for word, index in word2id.items():\n",
    "    try:  embedding_weights[index, :] = word_vectors[word]\n",
    "    except KeyError: pass"
   ]
  },
  {
   "cell_type": "code",
   "execution_count": 313,
   "metadata": {},
   "outputs": [
    {
     "name": "stdout",
     "output_type": "stream",
     "text": [
      "Embeddings shape: (30215, 300)\n"
     ]
    }
   ],
   "source": [
    "print(\"Embeddings shape: {}\".format(embedding_weights.shape))"
   ]
  },
  {
   "cell_type": "code",
   "execution_count": 314,
   "metadata": {},
   "outputs": [
    {
     "name": "stdout",
     "output_type": "stream",
     "text": [
      "(7803, 130, 17)\n"
     ]
    }
   ],
   "source": [
    "Y_final = tf.keras.utils.to_categorical(Y_padded)\n",
    "# print Y of the first output sequqnce\n",
    "print(Y_final.shape)  # (number of sequences, length of each sequence, number of tags)"
   ]
  },
  {
   "cell_type": "code",
   "execution_count": 315,
   "metadata": {},
   "outputs": [],
   "source": [
    "### Perform all the operations for dev set ###\n",
    "devx = devdf['sentence']\n",
    "devy = devdf['pos']\n",
    "\n",
    "devx_encoded = word_tokenizer.texts_to_sequences(devx)\n",
    "devy_encoded = tag_tokenizer.texts_to_sequences(devy)\n",
    "\n",
    "devx_padded = tf.keras.preprocessing.sequence.pad_sequences(devx_encoded, maxlen=MAX_SEQ_LENGTH, padding=\"pre\", truncating=\"post\")\n",
    "devy_padded = tf.keras.preprocessing.sequence.pad_sequences(devy_encoded, maxlen=MAX_SEQ_LENGTH, padding=\"pre\", truncating=\"post\")\n",
    "\n",
    "devy_final= tf.keras.utils.to_categorical(devy_padded)"
   ]
  },
  {
   "cell_type": "code",
   "execution_count": 316,
   "metadata": {},
   "outputs": [],
   "source": [
    "### Perform all the operations for test set ###\n",
    "testx = testdf['sentence']\n",
    "testy = testdf['pos']\n",
    "\n",
    "testx_encoded = word_tokenizer.texts_to_sequences(testx)\n",
    "testy_encoded = tag_tokenizer.texts_to_sequences(testy)\n",
    "\n",
    "testx_padded = tf.keras.preprocessing.sequence.pad_sequences(testx_encoded, maxlen=MAX_SEQ_LENGTH, padding=\"pre\", truncating=\"post\")\n",
    "testy_padded = tf.keras.preprocessing.sequence.pad_sequences(testy_encoded, maxlen=MAX_SEQ_LENGTH, padding=\"pre\", truncating=\"post\")\n",
    "\n",
    "testy_final = tf.keras.utils.to_categorical(testy_padded)"
   ]
  },
  {
   "cell_type": "code",
   "execution_count": 317,
   "metadata": {},
   "outputs": [
    {
     "name": "stdout",
     "output_type": "stream",
     "text": [
      "TRAINING DATA\n",
      "Shape of input sequences: (7803, 130)\n",
      "Shape of output sequences: (7803, 130, 17)\n",
      "--------------------------------------------------\n",
      "VALIDATION DATA\n",
      "Shape of input sequences: (979, 130)\n",
      "Shape of output sequences: (979, 130, 17)\n",
      "--------------------------------------------------\n",
      "TESTING DATA\n",
      "Shape of input sequences: (979, 130)\n",
      "Shape of output sequences: (979, 130, 17)\n"
     ]
    }
   ],
   "source": [
    "print(\"TRAINING DATA\")\n",
    "print('Shape of input sequences: {}'.format(X_padded.shape))\n",
    "print('Shape of output sequences: {}'.format(Y_final.shape))\n",
    "print(\"-\"*50)\n",
    "print(\"VALIDATION DATA\")\n",
    "print('Shape of input sequences: {}'.format(devx_padded.shape))\n",
    "print('Shape of output sequences: {}'.format(devy_final.shape))\n",
    "print(\"-\"*50)\n",
    "print(\"TESTING DATA\")\n",
    "print('Shape of input sequences: {}'.format(testx_padded.shape))\n",
    "print('Shape of output sequences: {}'.format(testy_final.shape))"
   ]
  },
  {
   "cell_type": "code",
   "execution_count": 318,
   "metadata": {},
   "outputs": [
    {
     "name": "stdout",
     "output_type": "stream",
     "text": [
      "Unique elements in trainy: {'PUNCT', 'VERB', 'CCONJ', 'PART', 'ADJ', 'ADP', 'NOUN', '_', 'INTJ', 'ADV', 'DET', 'PROPN', 'SCONJ', 'PRON', 'AUX', 'NUM'}\n",
      "Unique elements in devy: {'PUNCT', 'VERB', 'CCONJ', 'PART', 'ADP', 'NOUN', '_', 'INTJ', 'ADV', 'DET', 'ADJ', 'PROPN', 'PRON', 'AUX', 'NUM', 'SCONJ'}\n",
      "Unique elements in testy: {'PUNCT', 'VERB', 'PART', 'CCONJ', 'ADP', 'NOUN', '_', 'AUX', 'INTJ', 'SCONJ', 'DET', 'ADJ', 'PROPN', 'PRON', 'ADV', 'NUM'}\n"
     ]
    }
   ],
   "source": [
    "# print unique elements in trainy\n",
    "print(\"Unique elements in trainy: {}\".format(set([item for sublist in trainy for item in sublist])))\n",
    "# print unique elements in devy\n",
    "print(\"Unique elements in devy: {}\".format(set([item for sublist in devy for item in sublist])))\n",
    "# print unique elements in testy\n",
    "print(\"Unique elements in testy: {}\".format(set([item for sublist in testy for item in sublist])))"
   ]
  },
  {
   "cell_type": "code",
   "execution_count": 319,
   "metadata": {},
   "outputs": [
    {
     "data": {
      "text/plain": [
       "17"
      ]
     },
     "execution_count": 319,
     "metadata": {},
     "output_type": "execute_result"
    }
   ],
   "source": [
    "# total number of tags\n",
    "NUM_CLASSES = Y_final.shape[2]\n",
    "NUM_CLASSES"
   ]
  },
  {
   "cell_type": "code",
   "execution_count": 320,
   "metadata": {},
   "outputs": [],
   "source": [
    "# import tensorflow\n",
    "from tensorflow.keras.models import Sequential\n",
    "from tensorflow.keras.layers import Dense, LSTM, Bidirectional, TimeDistributed, Embedding\n",
    "\n",
    "bidirect_model = Sequential()\n",
    "bidirect_model.add(Embedding(input_dim     = VOCABULARY_SIZE,\n",
    "                             output_dim    = EMBEDDING_SIZE,\n",
    "                             input_length  = MAX_SEQ_LENGTH,\n",
    "                             weights       = [embedding_weights],\n",
    "                             trainable     = False\n",
    "))\n",
    "bidirect_model.add(Bidirectional(LSTM(2, return_sequences=True)))\n",
    "bidirect_model.add(TimeDistributed(Dense(NUM_CLASSES, activation='softmax')))"
   ]
  },
  {
   "cell_type": "code",
   "execution_count": 321,
   "metadata": {},
   "outputs": [],
   "source": [
    "bidirect_model.compile(loss='categorical_crossentropy',\n",
    "              optimizer='adam',\n",
    "              metrics=['acc'])"
   ]
  },
  {
   "cell_type": "code",
   "execution_count": 322,
   "metadata": {},
   "outputs": [
    {
     "name": "stdout",
     "output_type": "stream",
     "text": [
      "Model: \"sequential_22\"\n",
      "_________________________________________________________________\n",
      " Layer (type)                Output Shape              Param #   \n",
      "=================================================================\n",
      " embedding_22 (Embedding)    (None, 130, 300)          9064500   \n",
      "                                                                 \n",
      " bidirectional_17 (Bidirecti  (None, 130, 4)           4848      \n",
      " onal)                                                           \n",
      "                                                                 \n",
      " time_distributed_17 (TimeDi  (None, 130, 17)          85        \n",
      " stributed)                                                      \n",
      "                                                                 \n",
      "=================================================================\n",
      "Total params: 9,069,433\n",
      "Trainable params: 4,933\n",
      "Non-trainable params: 9,064,500\n",
      "_________________________________________________________________\n"
     ]
    }
   ],
   "source": [
    "bidirect_model.summary()"
   ]
  },
  {
   "cell_type": "code",
   "execution_count": 323,
   "metadata": {},
   "outputs": [
    {
     "name": "stdout",
     "output_type": "stream",
     "text": [
      "Epoch 1/10\n",
      "61/61 [==============================] - 4s 39ms/step - loss: 2.7322 - acc: 0.8302 - val_loss: 2.6071 - val_acc: 0.8771\n",
      "Epoch 2/10\n",
      "61/61 [==============================] - 1s 20ms/step - loss: 2.3521 - acc: 0.9266 - val_loss: 2.0216 - val_acc: 0.9230\n",
      "Epoch 3/10\n",
      "61/61 [==============================] - 1s 20ms/step - loss: 1.5835 - acc: 0.9310 - val_loss: 1.1524 - val_acc: 0.9199\n",
      "Epoch 4/10\n",
      "61/61 [==============================] - 1s 19ms/step - loss: 0.8585 - acc: 0.9307 - val_loss: 0.6961 - val_acc: 0.9202\n",
      "Epoch 5/10\n",
      "61/61 [==============================] - 1s 19ms/step - loss: 0.5864 - acc: 0.9301 - val_loss: 0.5430 - val_acc: 0.9213\n",
      "Epoch 6/10\n",
      "61/61 [==============================] - 1s 19ms/step - loss: 0.4691 - acc: 0.9296 - val_loss: 0.4633 - val_acc: 0.9230\n",
      "Epoch 7/10\n",
      "61/61 [==============================] - 1s 20ms/step - loss: 0.4024 - acc: 0.9301 - val_loss: 0.4164 - val_acc: 0.9239\n",
      "Epoch 8/10\n",
      "61/61 [==============================] - 1s 19ms/step - loss: 0.3599 - acc: 0.9307 - val_loss: 0.3858 - val_acc: 0.9244\n",
      "Epoch 9/10\n",
      "61/61 [==============================] - 1s 23ms/step - loss: 0.3303 - acc: 0.9313 - val_loss: 0.3644 - val_acc: 0.9247\n",
      "Epoch 10/10\n",
      "61/61 [==============================] - 1s 20ms/step - loss: 0.3084 - acc: 0.9317 - val_loss: 0.3490 - val_acc: 0.9249\n"
     ]
    }
   ],
   "source": [
    "bidirect_training = bidirect_model.fit(X_padded, Y_final, batch_size=128, epochs=10, validation_data=(devx_padded, devy_final))"
   ]
  },
  {
   "cell_type": "code",
   "execution_count": 324,
   "metadata": {},
   "outputs": [
    {
     "data": {
      "image/png": "[encoded data removed]",
      "text/plain": [
       "<Figure size 640x480 with 1 Axes>"
      ]
     },
     "metadata": {},
     "output_type": "display_data"
    }
   ],
   "source": [
    "# visualise training history\n",
    "plt.plot(bidirect_training.history['acc'])\n",
    "plt.plot(bidirect_training.history['val_acc'])\n",
    "plt.title('model accuracy')\n",
    "plt.grid()\n",
    "plt.ylabel('accuracy')\n",
    "plt.xlabel('epoch')\n",
    "plt.legend(['train', 'test'], loc=\"lower right\")\n",
    "plt.show()"
   ]
  },
  {
   "cell_type": "code",
   "execution_count": 325,
   "metadata": {},
   "outputs": [
    {
     "name": "stdout",
     "output_type": "stream",
     "text": [
      "31/31 [==============================] - 0s 7ms/step - loss: 0.3469 - acc: 0.9265\n",
      "Loss: 0.34693899750709534,\n",
      "Accuracy: 0.9265263080596924\n"
     ]
    }
   ],
   "source": [
    "loss, accuracy = bidirect_model.evaluate(testx_padded, testy_final, verbose = 1)\n",
    "print(\"Loss: {0},\\nAccuracy: {1}\".format(loss, accuracy))"
   ]
  },
  {
   "cell_type": "code",
   "execution_count": null,
   "metadata": {},
   "outputs": [],
   "source": []
  }
 ],
 "metadata": {
  "kernelspec": {
   "display_name": "env",
   "language": "python",
   "name": "python3"
  },
  "language_info": {
   "codemirror_mode": {
    "name": "ipython",
    "version": 3
   },
   "file_extension": ".py",
   "mimetype": "text/x-python",
   "name": "python",
   "nbconvert_exporter": "python",
   "pygments_lexer": "ipython3",
   "version": "3.9.13"
  },
  "orig_nbformat": 4
 },
 "nbformat": 4,
 "nbformat_minor": 2
}
