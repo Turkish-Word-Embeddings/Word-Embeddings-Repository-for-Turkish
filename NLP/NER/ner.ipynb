{
 "cells": [
  {
   "cell_type": "code",
   "execution_count": 1,
   "metadata": {},
   "outputs": [],
   "source": [
    "import numpy as np\n",
    "import pandas as pd\n",
    "import tensorflow as tf\n",
    "import gensim"
   ]
  },
  {
   "cell_type": "code",
   "execution_count": 2,
   "metadata": {},
   "outputs": [],
   "source": [
    "def read_only_consistent(path):\n",
    "    # create a dataframe consisting of word and PoS tag\n",
    "    sentences = []\n",
    "    with open(path, 'r', encoding=\"utf-8\") as f:\n",
    "        data = f.readlines()\n",
    "        r = len(data)\n",
    "        i = 0\n",
    "        while(i < r):\n",
    "            sentence = []\n",
    "            ne_representation = []\n",
    "            while(i < r and data[i] != \"\\n\"):\n",
    "                parts = data[i].split(\" \")\n",
    "                word = parts[0].strip()\n",
    "                ne = parts[-1].strip()\n",
    "\n",
    "                ne_representation.append(ne)\n",
    "                sentence.append(word) \n",
    "                i += 1\n",
    "            i+=1\n",
    "            sentences.append((sentence, ne_representation))\n",
    "        return sentences\n",
    "\n",
    "# read test, dev and train csv files\n",
    "train = read_only_consistent(\"data/gungor.ner.train.14.only_consistent\")\n",
    "dev = read_only_consistent(\"data/gungor.ner.dev.14.only_consistent\")\n",
    "test = read_only_consistent(\"data/gungor.ner.test.14.only_consistent\")"
   ]
  },
  {
   "cell_type": "code",
   "execution_count": 3,
   "metadata": {},
   "outputs": [
    {
     "name": "stdout",
     "output_type": "stream",
     "text": [
      "['Ecevit', ',', \"Şener'in\", 'açıklamasına', 'dikkat', 'çekerek', '\"', 'Anlaşılan', 'o', 'ki', \"Kutan'ın\", 'önerisi', 'başkent', 'kulislerinden', 'çok', 'kendi', 'partisini', 'karıştırmış', '\"', 'diyor', 've', '\"', 'Her', 'gün', 'yeni', 'bir', 'seçim', 'tarihi', 'ortaya', 'atarak', \"Türkiye'yi\", 'belirsizlik', 'ortamına', 'sokmaya', 'kimsenin', 'hakkı', 'yok', '.'] : ['I-PER', 'O', 'I-PER', 'O', 'O', 'O', 'O', 'O', 'O', 'O', 'I-PER', 'O', 'O', 'O', 'O', 'O', 'O', 'O', 'O', 'O', 'O', 'O', 'O', 'O', 'O', 'O', 'O', 'O', 'O', 'O', 'I-LOC', 'O', 'O', 'O', 'O', 'O', 'O', 'O']\n"
     ]
    }
   ],
   "source": [
    "import random\n",
    "sentence, pos_repr = random.choice(train)\n",
    "print(sentence, \":\", pos_repr)"
   ]
  },
  {
   "cell_type": "code",
   "execution_count": 4,
   "metadata": {},
   "outputs": [
    {
     "data": {
      "text/plain": [
       "(                                            sentence   \n",
       " 0  [Müzik, Müzik, Şenliği'ne, hazırlanın, POZİTİF...  \\\n",
       " \n",
       "                                                   ne  \n",
       " 0  [O, O, O, O, I-ORG, I-ORG, I-ORG, I-ORG, O, O,...  ,\n",
       "                    sentence             ne\n",
       " 0  [Üretken, ülke, Türkiye]  [O, O, I-LOC],\n",
       "                                             sentence   \n",
       " 0  [Bunlar, ,, mücadelenin, kesin, galibini, beli...  \\\n",
       " \n",
       "                                   ne  \n",
       " 0  [O, O, O, O, O, O, O, O, O, O, O]  )"
      ]
     },
     "execution_count": 4,
     "metadata": {},
     "output_type": "execute_result"
    }
   ],
   "source": [
    "\n",
    "# create a dataframe\n",
    "traindf = pd.DataFrame(\n",
    "    {'sentence': [i[0] for i in train],\n",
    "        'ne': [i[1] for i in train]\n",
    "    })\n",
    "\n",
    "testdf = pd.DataFrame(\n",
    "    {'sentence': [i[0] for i in test],\n",
    "        'ne': [i[1] for i in test]\n",
    "    })\n",
    "\n",
    "devdf = pd.DataFrame(\n",
    "    {'sentence': [i[0] for i in dev],\n",
    "        'ne': [i[1] for i in dev]\n",
    "    })\n",
    "\n",
    "\n",
    "traindf.head(1), devdf.head(1), testdf.head(1)"
   ]
  },
  {
   "cell_type": "code",
   "execution_count": 5,
   "metadata": {},
   "outputs": [
    {
     "data": {
      "text/plain": [
       "(['Müzik',\n",
       "  'Müzik',\n",
       "  \"Şenliği'ne\",\n",
       "  'hazırlanın',\n",
       "  'POZİTİF',\n",
       "  've',\n",
       "  'Açık',\n",
       "  'Radyo',\n",
       "  'işbirliğiyle',\n",
       "  'düzenlenecek',\n",
       "  'olan',\n",
       "  'İstanbul',\n",
       "  'Müzik',\n",
       "  'Şenliği',\n",
       "  '2',\n",
       "  ',',\n",
       "  'müzikseverlere',\n",
       "  'Aralık',\n",
       "  'ayında',\n",
       "  'merhaba',\n",
       "  'demeye',\n",
       "  'hazırlanıyor'],\n",
       " ['O',\n",
       "  'O',\n",
       "  'O',\n",
       "  'O',\n",
       "  'I-ORG',\n",
       "  'I-ORG',\n",
       "  'I-ORG',\n",
       "  'I-ORG',\n",
       "  'O',\n",
       "  'O',\n",
       "  'O',\n",
       "  'I-LOC',\n",
       "  'O',\n",
       "  'O',\n",
       "  'O',\n",
       "  'O',\n",
       "  'O',\n",
       "  'O',\n",
       "  'O',\n",
       "  'O',\n",
       "  'O',\n",
       "  'O'])"
      ]
     },
     "execution_count": 5,
     "metadata": {},
     "output_type": "execute_result"
    }
   ],
   "source": [
    "trainx = traindf['sentence']\n",
    "trainy = traindf['ne']\n",
    "\n",
    "trainx[0], trainy[0]"
   ]
  },
  {
   "cell_type": "code",
   "execution_count": 6,
   "metadata": {},
   "outputs": [],
   "source": [
    "####### VECTORIZATION #######\n",
    "word_tokenizer = tf.keras.preprocessing.text.Tokenizer()\n",
    "word_tokenizer.fit_on_texts(trainx)                    # fit tokeniser on data\n",
    "X_encoded = word_tokenizer.texts_to_sequences(trainx)  # use the tokeniser to encode input sequence"
   ]
  },
  {
   "cell_type": "code",
   "execution_count": 7,
   "metadata": {},
   "outputs": [],
   "source": [
    "####### VECTORIZATION #######\n",
    "tag_tokenizer = tf.keras.preprocessing.text.Tokenizer()\n",
    "tag_tokenizer.fit_on_texts(trainy)                    # fit tokeniser on data\n",
    "Y_encoded = tag_tokenizer.texts_to_sequences(trainy)  # use the tokeniser to encode input sequence"
   ]
  },
  {
   "cell_type": "code",
   "execution_count": 8,
   "metadata": {},
   "outputs": [
    {
     "name": "stdout",
     "output_type": "stream",
     "text": [
      "0 sentences have disparate input-output lengths.\n"
     ]
    }
   ],
   "source": [
    "# make sure that each sequence of input and output is same length\n",
    "\n",
    "different_length = [1 if len(input) != len(output) else 0 for input, output in zip(X_encoded, Y_encoded)]\n",
    "print(\"{} sentences have disparate input-output lengths.\".format(sum(different_length)))"
   ]
  },
  {
   "cell_type": "code",
   "execution_count": 9,
   "metadata": {},
   "outputs": [
    {
     "name": "stdout",
     "output_type": "stream",
     "text": [
      "Length of longest sentence: 152\n"
     ]
    }
   ],
   "source": [
    "lengths = [len(seq) for seq in X_encoded]\n",
    "print(\"Length of longest sentence: {}\".format(max(lengths)))"
   ]
  },
  {
   "cell_type": "code",
   "execution_count": 10,
   "metadata": {},
   "outputs": [
    {
     "data": {
      "image/png": "[encoded data removed]",
      "text/plain": [
       "<Figure size 640x480 with 1 Axes>"
      ]
     },
     "metadata": {},
     "output_type": "display_data"
    }
   ],
   "source": [
    "import seaborn as sns\n",
    "import matplotlib.pyplot as plt\n",
    "\n",
    "sns.boxplot(lengths, orient='h')\n",
    "plt.title(\"Boxplot of sentence lengths\")\n",
    "plt.show()"
   ]
  },
  {
   "cell_type": "code",
   "execution_count": 11,
   "metadata": {},
   "outputs": [],
   "source": [
    "MAX_SEQ_LENGTH = 130  # sequences greater than MAX_SEQ_LENGTH in length will be truncated\n",
    "\n",
    "X_padded = tf.keras.preprocessing.sequence.pad_sequences(X_encoded, maxlen=MAX_SEQ_LENGTH, padding=\"pre\", truncating=\"post\")\n",
    "Y_padded = tf.keras.preprocessing.sequence.pad_sequences(Y_encoded, maxlen=MAX_SEQ_LENGTH, padding=\"pre\", truncating=\"post\")"
   ]
  },
  {
   "cell_type": "code",
   "execution_count": 12,
   "metadata": {},
   "outputs": [
    {
     "name": "stdout",
     "output_type": "stream",
     "text": [
      "[    0     0     0     0     0     0     0     0     0     0     0     0\n",
      "     0     0     0     0     0     0     0     0     0     0     0     0\n",
      "     0     0     0     0     0     0     0     0     0     0     0     0\n",
      "     0     0     0     0     0     0     0     0     0     0     0     0\n",
      "     0     0     0     0     0     0     0     0     0     0     0     0\n",
      "     0     0     0     0     0     0     0     0     0     0     0     0\n",
      "     0     0     0     0     0     0     0     0     0     0     0     0\n",
      "     0     0     0     0     0     0     0     0     0     0     0     0\n",
      "     0     0     0     0     0     0     0     0     0     0     0     0\n",
      "  1558  1558 23896 11290 23897     5   198  2255 15304  2953    24   113\n",
      "  1558 15305   139     1 23898  1898   396 11291  7263  1701] \n",
      "\n",
      "\n",
      "\n",
      "[0 0 0 0 0 0 0 0 0 0 0 0 0 0 0 0 0 0 0 0 0 0 0 0 0 0 0 0 0 0 0 0 0 0 0 0 0\n",
      " 0 0 0 0 0 0 0 0 0 0 0 0 0 0 0 0 0 0 0 0 0 0 0 0 0 0 0 0 0 0 0 0 0 0 0 0 0\n",
      " 0 0 0 0 0 0 0 0 0 0 0 0 0 0 0 0 0 0 0 0 0 0 0 0 0 0 0 0 0 0 0 0 0 0 1 1 1\n",
      " 1 3 3 3 3 1 1 1 4 1 1 1 1 1 1 1 1 1 1]\n"
     ]
    }
   ],
   "source": [
    "print(X_padded[0], \"\\n\"*3)\n",
    "print(Y_padded[0])"
   ]
  },
  {
   "cell_type": "code",
   "execution_count": 13,
   "metadata": {},
   "outputs": [
    {
     "name": "stdout",
     "output_type": "stream",
     "text": [
      "loading word embeddings...\n"
     ]
    }
   ],
   "source": [
    "MODEL = \"C:/Users/karab/Desktop/Models/glove.txt\"\n",
    "EMBEDDING_SIZE  = 300  # each word in word2vec model is represented using a 300 dimensional vector\n",
    "VOCABULARY_SIZE = len(word_tokenizer.word_index) + 1\n",
    "\n",
    "#load fasttext embeddings\n",
    "print('loading word embeddings...')\n",
    "word_vectors = gensim.models.KeyedVectors.load_word2vec_format(\n",
    "    MODEL,\n",
    "    binary=False,\n",
    "    no_header=True)"
   ]
  },
  {
   "cell_type": "code",
   "execution_count": 14,
   "metadata": {},
   "outputs": [],
   "source": [
    "# create an empty embedding matrix\n",
    "embedding_weights = np.zeros((VOCABULARY_SIZE, EMBEDDING_SIZE))\n",
    "word2id = word_tokenizer.word_index\n",
    "for word, index in word2id.items():\n",
    "    try:  embedding_weights[index, :] = word_vectors[word]\n",
    "    except KeyError: pass"
   ]
  },
  {
   "cell_type": "code",
   "execution_count": 15,
   "metadata": {},
   "outputs": [
    {
     "name": "stdout",
     "output_type": "stream",
     "text": [
      "Embeddings shape: (53214, 300)\n"
     ]
    }
   ],
   "source": [
    "print(\"Embeddings shape: {}\".format(embedding_weights.shape))"
   ]
  },
  {
   "cell_type": "code",
   "execution_count": 16,
   "metadata": {},
   "outputs": [
    {
     "name": "stdout",
     "output_type": "stream",
     "text": [
      "(25514, 130, 5)\n"
     ]
    }
   ],
   "source": [
    "Y_final = tf.keras.utils.to_categorical(Y_padded)\n",
    "# print Y of the first output sequence\n",
    "print(Y_final.shape)  # (number of sequences, length of each sequence, number of entities)"
   ]
  },
  {
   "cell_type": "code",
   "execution_count": 17,
   "metadata": {},
   "outputs": [],
   "source": [
    "### Perform all the operations for dev set ###\n",
    "devx = devdf['sentence']\n",
    "devy = devdf['ne']\n",
    "\n",
    "devx_encoded = word_tokenizer.texts_to_sequences(devx)\n",
    "devy_encoded = tag_tokenizer.texts_to_sequences(devy)\n",
    "\n",
    "devx_padded = tf.keras.preprocessing.sequence.pad_sequences(devx_encoded, maxlen=MAX_SEQ_LENGTH, padding=\"pre\", truncating=\"post\")\n",
    "devy_padded = tf.keras.preprocessing.sequence.pad_sequences(devy_encoded, maxlen=MAX_SEQ_LENGTH, padding=\"pre\", truncating=\"post\")\n",
    "\n",
    "devy_final= tf.keras.utils.to_categorical(devy_padded)"
   ]
  },
  {
   "cell_type": "code",
   "execution_count": 18,
   "metadata": {},
   "outputs": [],
   "source": [
    "### Perform all the operations for test set ###\n",
    "testx = testdf['sentence']\n",
    "testy = testdf['ne']\n",
    "\n",
    "testx_encoded = word_tokenizer.texts_to_sequences(testx)\n",
    "testy_encoded = tag_tokenizer.texts_to_sequences(testy)\n",
    "\n",
    "testx_padded = tf.keras.preprocessing.sequence.pad_sequences(testx_encoded, maxlen=MAX_SEQ_LENGTH, padding=\"pre\", truncating=\"post\")\n",
    "testy_padded = tf.keras.preprocessing.sequence.pad_sequences(testy_encoded, maxlen=MAX_SEQ_LENGTH, padding=\"pre\", truncating=\"post\")\n",
    "\n",
    "testy_final = tf.keras.utils.to_categorical(testy_padded)"
   ]
  },
  {
   "cell_type": "code",
   "execution_count": 19,
   "metadata": {},
   "outputs": [
    {
     "name": "stdout",
     "output_type": "stream",
     "text": [
      "TRAINING DATA\n",
      "Shape of input sequences: (25514, 130)\n",
      "Shape of output sequences: (25514, 130, 5)\n",
      "--------------------------------------------------\n",
      "VALIDATION DATA\n",
      "Shape of input sequences: (2954, 130)\n",
      "Shape of output sequences: (2954, 130, 5)\n",
      "--------------------------------------------------\n",
      "TESTING DATA\n",
      "Shape of input sequences: (2915, 130)\n",
      "Shape of output sequences: (2915, 130, 5)\n"
     ]
    }
   ],
   "source": [
    "print(\"TRAINING DATA\")\n",
    "print('Shape of input sequences: {}'.format(X_padded.shape))\n",
    "print('Shape of output sequences: {}'.format(Y_final.shape))\n",
    "print(\"-\"*50)\n",
    "print(\"VALIDATION DATA\")\n",
    "print('Shape of input sequences: {}'.format(devx_padded.shape))\n",
    "print('Shape of output sequences: {}'.format(devy_final.shape))\n",
    "print(\"-\"*50)\n",
    "print(\"TESTING DATA\")\n",
    "print('Shape of input sequences: {}'.format(testx_padded.shape))\n",
    "print('Shape of output sequences: {}'.format(testy_final.shape))"
   ]
  },
  {
   "cell_type": "code",
   "execution_count": 20,
   "metadata": {},
   "outputs": [
    {
     "name": "stdout",
     "output_type": "stream",
     "text": [
      "Unique elements in trainy: {'I-LOC', 'I-ORG', 'O', 'I-PER'}\n",
      "Unique elements in devy: {'I-LOC', 'I-ORG', 'O', 'I-PER'}\n",
      "Unique elements in testy: {'I-LOC', 'I-ORG', 'O', 'I-PER'}\n"
     ]
    }
   ],
   "source": [
    "# print unique elements in trainy\n",
    "print(\"Unique elements in trainy: {}\".format(set([item for sublist in trainy for item in sublist])))\n",
    "# print unique elements in devy\n",
    "print(\"Unique elements in devy: {}\".format(set([item for sublist in devy for item in sublist])))\n",
    "# print unique elements in testy\n",
    "print(\"Unique elements in testy: {}\".format(set([item for sublist in testy for item in sublist])))"
   ]
  },
  {
   "cell_type": "code",
   "execution_count": 21,
   "metadata": {},
   "outputs": [
    {
     "data": {
      "text/plain": [
       "5"
      ]
     },
     "execution_count": 21,
     "metadata": {},
     "output_type": "execute_result"
    }
   ],
   "source": [
    "# total number of tags\n",
    "NUM_CLASSES = Y_final.shape[2]\n",
    "NUM_CLASSES"
   ]
  },
  {
   "cell_type": "code",
   "execution_count": 22,
   "metadata": {},
   "outputs": [],
   "source": [
    "# import tensorflow\n",
    "from tensorflow.keras.models import Sequential\n",
    "from tensorflow.keras.layers import Dense, LSTM, Bidirectional, TimeDistributed, Embedding\n",
    "\n",
    "bidirect_model = Sequential()\n",
    "bidirect_model.add(Embedding(input_dim     = VOCABULARY_SIZE,\n",
    "                             output_dim    = EMBEDDING_SIZE,\n",
    "                             input_length  = MAX_SEQ_LENGTH,\n",
    "                             weights       = [embedding_weights],\n",
    "                             trainable     = False\n",
    "))\n",
    "bidirect_model.add(Bidirectional(LSTM(16, return_sequences=True)))\n",
    "bidirect_model.add(TimeDistributed(Dense(NUM_CLASSES, activation='softmax')))"
   ]
  },
  {
   "cell_type": "code",
   "execution_count": 23,
   "metadata": {},
   "outputs": [],
   "source": [
    "bidirect_model.compile(loss='categorical_crossentropy',\n",
    "              optimizer='adam',\n",
    "              metrics=['acc'])"
   ]
  },
  {
   "cell_type": "code",
   "execution_count": 24,
   "metadata": {},
   "outputs": [
    {
     "name": "stdout",
     "output_type": "stream",
     "text": [
      "Model: \"sequential\"\n",
      "_________________________________________________________________\n",
      " Layer (type)                Output Shape              Param #   \n",
      "=================================================================\n",
      " embedding (Embedding)       (None, 130, 300)          15964200  \n",
      "                                                                 \n",
      " bidirectional (Bidirectiona  (None, 130, 32)          40576     \n",
      " l)                                                              \n",
      "                                                                 \n",
      " time_distributed (TimeDistr  (None, 130, 5)           165       \n",
      " ibuted)                                                         \n",
      "                                                                 \n",
      "=================================================================\n",
      "Total params: 16,004,941\n",
      "Trainable params: 40,741\n",
      "Non-trainable params: 15,964,200\n",
      "_________________________________________________________________\n"
     ]
    }
   ],
   "source": [
    "bidirect_model.summary()"
   ]
  },
  {
   "cell_type": "code",
   "execution_count": 25,
   "metadata": {},
   "outputs": [
    {
     "name": "stdout",
     "output_type": "stream",
     "text": [
      "Epoch 1/10\n",
      "200/200 [==============================] - 17s 41ms/step - loss: 0.3113 - acc: 0.9788 - val_loss: 0.0802 - val_acc: 0.9785\n",
      "Epoch 2/10\n",
      "200/200 [==============================] - 7s 34ms/step - loss: 0.0323 - acc: 0.9912 - val_loss: 0.0813 - val_acc: 0.9789\n",
      "Epoch 3/10\n",
      "200/200 [==============================] - 7s 34ms/step - loss: 0.0254 - acc: 0.9933 - val_loss: 0.0838 - val_acc: 0.9787\n",
      "Epoch 4/10\n",
      "200/200 [==============================] - 7s 34ms/step - loss: 0.0218 - acc: 0.9942 - val_loss: 0.0871 - val_acc: 0.9786\n",
      "Epoch 5/10\n",
      "200/200 [==============================] - 7s 35ms/step - loss: 0.0193 - acc: 0.9948 - val_loss: 0.0906 - val_acc: 0.9785\n",
      "Epoch 6/10\n",
      "200/200 [==============================] - 7s 35ms/step - loss: 0.0176 - acc: 0.9952 - val_loss: 0.0918 - val_acc: 0.9785\n",
      "Epoch 7/10\n",
      "200/200 [==============================] - 7s 34ms/step - loss: 0.0162 - acc: 0.9955 - val_loss: 0.0935 - val_acc: 0.9786\n",
      "Epoch 8/10\n",
      "200/200 [==============================] - 7s 33ms/step - loss: 0.0151 - acc: 0.9958 - val_loss: 0.0962 - val_acc: 0.9786\n",
      "Epoch 9/10\n",
      "200/200 [==============================] - 7s 34ms/step - loss: 0.0143 - acc: 0.9960 - val_loss: 0.0975 - val_acc: 0.9787\n",
      "Epoch 10/10\n",
      "200/200 [==============================] - 7s 36ms/step - loss: 0.0135 - acc: 0.9962 - val_loss: 0.0992 - val_acc: 0.9787\n"
     ]
    }
   ],
   "source": [
    "bidirect_training = bidirect_model.fit(X_padded, Y_final, batch_size=128, epochs=10, validation_data=(devx_padded, devy_final))"
   ]
  },
  {
   "cell_type": "code",
   "execution_count": 26,
   "metadata": {},
   "outputs": [
    {
     "data": {
      "image/png": "[encoded data removed]",
      "text/plain": [
       "<Figure size 640x480 with 1 Axes>"
      ]
     },
     "metadata": {},
     "output_type": "display_data"
    }
   ],
   "source": [
    "# visualise training history\n",
    "plt.plot(bidirect_training.history['acc'])\n",
    "plt.plot(bidirect_training.history['val_acc'])\n",
    "plt.title('model accuracy')\n",
    "plt.grid()\n",
    "plt.ylabel('accuracy')\n",
    "plt.xlabel('epoch')\n",
    "plt.legend(['train', 'test'], loc=\"lower right\")\n",
    "plt.show()"
   ]
  },
  {
   "cell_type": "code",
   "execution_count": 27,
   "metadata": {},
   "outputs": [
    {
     "name": "stdout",
     "output_type": "stream",
     "text": [
      "92/92 [==============================] - 2s 24ms/step - loss: 0.0998 - acc: 0.9784\n",
      "Loss: 0.09979955852031708,\n",
      "Accuracy: 0.9783982038497925\n"
     ]
    }
   ],
   "source": [
    "loss, accuracy = bidirect_model.evaluate(testx_padded, testy_final, verbose = 1)\n",
    "print(\"Loss: {0},\\nAccuracy: {1}\".format(loss, accuracy))"
   ]
  }
 ],
 "metadata": {
  "kernelspec": {
   "display_name": "env",
   "language": "python",
   "name": "python3"
  },
  "language_info": {
   "codemirror_mode": {
    "name": "ipython",
    "version": 3
   },
   "file_extension": ".py",
   "mimetype": "text/x-python",
   "name": "python",
   "nbconvert_exporter": "python",
   "pygments_lexer": "ipython3",
   "version": "3.9.13"
  },
  "orig_nbformat": 4
 },
 "nbformat": 4,
 "nbformat_minor": 2
}
