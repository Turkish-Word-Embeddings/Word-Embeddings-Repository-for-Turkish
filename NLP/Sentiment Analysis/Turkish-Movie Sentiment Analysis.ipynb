{
 "cells": [
  {
   "attachments": {},
   "cell_type": "markdown",
   "metadata": {},
   "source": [
    "### To run the code, you should have the dataset in the same folder:\n",
    "```bash\n",
    "Sentiment Analysis\n",
    "├── Turkish-Movie Dataset\n",
    "│   ├── movie_outerN.txt\n",
    "│   ├── movie_outerP.txt\n",
    "│   ├── movie_testN.txt\n",
    "|   └─────────────────\n",
    "├── Turkish-Movie Sentiment Analysis.ipynb\n",
    "├── dataset.py\n",
    "├── turkish-movie-converter.py\n",
    "├── results.txt\n",
    "└── README.md\n",
    "```"
   ]
  },
  {
   "cell_type": "code",
   "execution_count": 2,
   "metadata": {},
   "outputs": [
    {
     "name": "stderr",
     "output_type": "stream",
     "text": [
      "c:\\Users\\karab\\Desktop\\turkish-word-embeddings\\env\\lib\\site-packages\\tqdm\\auto.py:21: TqdmWarning: IProgress not found. Please update jupyter and ipywidgets. See https://ipywidgets.readthedocs.io/en/stable/user_install.html\n",
      "  from .autonotebook import tqdm as notebook_tqdm\n"
     ]
    }
   ],
   "source": [
    "import numpy as np\n",
    "import pandas as pd\n",
    "from tqdm import tqdm\n",
    "from nltk.corpus import stopwords\n",
    "from sklearn import model_selection\n",
    "from sklearn import metrics\n",
    "import torch\n",
    "import torch.nn as nn\n",
    "import tensorflow as tf  # pytorch for the model, tensorflow for tokenizer\n",
    "import gensim\n",
    "from dataset import Dataset"
   ]
  },
  {
   "cell_type": "code",
   "execution_count": 2,
   "metadata": {},
   "outputs": [
    {
     "name": "stdout",
     "output_type": "stream",
     "text": [
      "1.13.1+cu117\n"
     ]
    },
    {
     "data": {
      "text/plain": [
       "'NVIDIA GeForce RTX 3050 Ti Laptop GPU'"
      ]
     },
     "execution_count": 2,
     "metadata": {},
     "output_type": "execute_result"
    }
   ],
   "source": [
    "print(torch.__version__)\n",
    "torch.cuda.get_device_name(0)"
   ]
  },
  {
   "cell_type": "code",
   "execution_count": 3,
   "metadata": {},
   "outputs": [
    {
     "data": {
      "text/plain": [
       "device(type='cuda')"
      ]
     },
     "execution_count": 3,
     "metadata": {},
     "output_type": "execute_result"
    }
   ],
   "source": [
    "device = torch.device('cuda' if torch.cuda.is_available() else 'cpu')\n",
    "device"
   ]
  },
  {
   "cell_type": "code",
   "execution_count": 6,
   "metadata": {},
   "outputs": [],
   "source": [
    "# read train and test csv\n",
    "traindf = pd.read_csv(\"data2/train.csv\")\n",
    "testdf = pd.read_csv(\"data2/test.csv\")\n",
    "\n",
    "# get label\n",
    "trainy = traindf['sentiment'].values\n",
    "testy = testdf['sentiment'].values"
   ]
  },
  {
   "cell_type": "code",
   "execution_count": 7,
   "metadata": {},
   "outputs": [
    {
     "data": {
      "text/plain": [
       "(286854, 31873)"
      ]
     },
     "execution_count": 7,
     "metadata": {},
     "output_type": "execute_result"
    }
   ],
   "source": [
    "len(traindf), len(testdf)"
   ]
  },
  {
   "cell_type": "code",
   "execution_count": 8,
   "metadata": {},
   "outputs": [
    {
     "data": {
      "image/png": "[encoded data removed]",
      "text/plain": [
       "<Figure size 640x480 with 1 Axes>"
      ]
     },
     "metadata": {},
     "output_type": "display_data"
    }
   ],
   "source": [
    "# visualize number of negatives and positive reviews\n",
    "import matplotlib.pyplot as plt\n",
    "\n",
    "negatives = traindf[traindf['sentiment'] == 0].shape[0]\n",
    "positives = traindf[traindf['sentiment'] == 1].shape[0]\n",
    "\n",
    "plt.bar(10, negatives, 3, label = 'Negative')\n",
    "plt.bar(15, positives, 3, label = 'Positive')\n",
    "# add numbers to the side of the bar\n",
    "plt.legend()\n",
    "plt.ylabel('Number of examples')\n",
    "plt.title('Proportion of examples')\n",
    "plt.text(10, negatives, str(negatives))\n",
    "plt.text(15, positives, str(positives))\n",
    "plt.show()"
   ]
  },
  {
   "cell_type": "code",
   "execution_count": 7,
   "metadata": {},
   "outputs": [
    {
     "name": "stdout",
     "output_type": "stream",
     "text": [
      "Total number of rows:  16100\n",
      "Number of rows with kfold = 0 3220\n",
      "Number of rows with kfold = 1 3220\n",
      "Number of rows with kfold = 2 3220\n",
      "Number of rows with kfold = 3 3220\n",
      "Number of rows with kfold = 4 3220\n"
     ]
    }
   ],
   "source": [
    "# K-FOLD CROSS VALIDATION SETUP\n",
    "kf = model_selection.StratifiedKFold(n_splits=5)\n",
    "\n",
    "# assign folds to [0, 1, 2, 3, 4]\n",
    "for fold, (train_, valid_) in enumerate(kf.split(X=traindf, y=trainy)):\n",
    "    traindf.loc[valid_, 'kfold'] = fold\n",
    "\n",
    "print(\"Total number of rows: \", traindf.shape[0])\n",
    "print(\"Number of rows with kfold = 0\", traindf[traindf.kfold==0].shape[0])\n",
    "print(\"Number of rows with kfold = 1\", traindf[traindf.kfold==1].shape[0])\n",
    "print(\"Number of rows with kfold = 2\", traindf[traindf.kfold==2].shape[0])\n",
    "print(\"Number of rows with kfold = 3\", traindf[traindf.kfold==3].shape[0])\n",
    "print(\"Number of rows with kfold = 4\", traindf[traindf.kfold==4].shape[0])"
   ]
  },
  {
   "cell_type": "code",
   "execution_count": 27,
   "metadata": {},
   "outputs": [],
   "source": [
    "MODEL = \"C:/Users/karab/Desktop/Models/bert-decontextualized-static.wv\"\n",
    "MAX_LEN = 128 # maximum length for a sentence\n",
    "DIM = 768\n",
    "TRAIN_BATCH_SIZE = 16\n",
    "VALID_BATCH_SIZE = 8\n",
    "EPOCHS = 5"
   ]
  },
  {
   "cell_type": "code",
   "execution_count": 30,
   "metadata": {},
   "outputs": [
    {
     "name": "stdout",
     "output_type": "stream",
     "text": [
      "loading word embeddings...\n"
     ]
    }
   ],
   "source": [
    "#load fasttext embeddings\n",
    "print('loading word embeddings...')\n",
    "word_vectors = gensim.models.KeyedVectors.load_word2vec_format(\n",
    "            MODEL,\n",
    "            binary=False,\n",
    "            no_header=False\n",
    "        )"
   ]
  },
  {
   "cell_type": "code",
   "execution_count": 11,
   "metadata": {},
   "outputs": [
    {
     "name": "stdout",
     "output_type": "stream",
     "text": [
      "1573013\n"
     ]
    },
    {
     "data": {
      "text/plain": [
       "(300,)"
      ]
     },
     "execution_count": 11,
     "metadata": {},
     "output_type": "execute_result"
    }
   ],
   "source": [
    "print(len(word_vectors))\n",
    "word_vectors[\"bilgisayar\"].shape  # 300 dimensions"
   ]
  },
  {
   "cell_type": "code",
   "execution_count": 19,
   "metadata": {},
   "outputs": [],
   "source": [
    "class LSTM(nn.Module):\n",
    "    def __init__(self, embedding_matrix):\n",
    "        super(LSTM, self).__init__()\n",
    "        # Number of words = number of rows in embedding matrix\n",
    "        num_words = embedding_matrix.shape[0]\n",
    "        # Dimension of embedding is num of columns in the matrix\n",
    "        embedding_dim = embedding_matrix.shape[1]\n",
    "        # Define an input embedding layer\n",
    "        self.embedding = nn.Embedding(num_embeddings=num_words,\n",
    "                                      embedding_dim=embedding_dim)\n",
    "        # Embedding matrix actually is collection of parameter\n",
    "        self.embedding.weight = nn.Parameter(torch.tensor(embedding_matrix, dtype = torch.float32))\n",
    "        # Because we use pretrained embedding (GLove, Fastext,etc) so we turn off requires_grad-meaning we do not train gradient on embedding weight\n",
    "        self.embedding.weight.requires_grad = False\n",
    "        # LSTM with hidden_size = 16\n",
    "        self.lstm = nn.LSTM(\n",
    "                            embedding_dim, \n",
    "                            16,\n",
    "                            bidirectional=False,\n",
    "                            batch_first=True,\n",
    "                             )\n",
    "        self.out = nn.Linear(32, 1)\n",
    "    def forward(self, x):\n",
    "        # pass input (tokens) through embedding layer\n",
    "        x = self.embedding(x)\n",
    "        # fit embedding to LSTM\n",
    "        hidden, _ = self.lstm(x)\n",
    "        # apply mean and max pooling on lstm output\n",
    "        avg_pool= torch.mean(hidden, 1)\n",
    "        max_pool, index_max_pool = torch.max(hidden, 1)\n",
    "        # concat avg_pool and max_pool (so we have 256 size, also because this is bidirectional ==> 256*2 = 512)\n",
    "        out = torch.cat((avg_pool, max_pool), 1)\n",
    "        # fit out to self.out to conduct dimensionality reduction from 512 to 1\n",
    "        out = self.out(out)\n",
    "        # return output\n",
    "        return out"
   ]
  },
  {
   "cell_type": "code",
   "execution_count": 20,
   "metadata": {},
   "outputs": [],
   "source": [
    "def train(data_loader, model, optimizer, device):\n",
    "    \"\"\"\n",
    "    this is model training for one epoch\n",
    "    data_loader:  this is torch dataloader, just like dataset but in torch and devide into batches\n",
    "    model : lstm\n",
    "    optimizer : torch optimizer : adam\n",
    "    device:  cuda or cpu\n",
    "    \"\"\"\n",
    "    # set model to training mode\n",
    "    model.train()\n",
    "    # go through batches of data in data loader\n",
    "    for data in data_loader:\n",
    "        reviews = data['review']\n",
    "        targets = data['target']\n",
    "        # move the data to device that we want to use\n",
    "        reviews = reviews.to(device, dtype = torch.long)\n",
    "        targets = targets.to(device, dtype = torch.float)\n",
    "        # clear the gradient\n",
    "        optimizer.zero_grad()\n",
    "        # make prediction from model\n",
    "        predictions = model(reviews)\n",
    "        # caculate the losses\n",
    "        loss = nn.BCEWithLogitsLoss()(predictions, targets.view(-1,1))\n",
    "        # backprob\n",
    "        loss.backward()\n",
    "        #single optimization step\n",
    "        optimizer.step()"
   ]
  },
  {
   "cell_type": "code",
   "execution_count": 21,
   "metadata": {},
   "outputs": [],
   "source": [
    "def evaluate(data_loader, model, device):\n",
    "    final_predictions = []\n",
    "    final_targets = []\n",
    "    model.eval()\n",
    "    # turn off gradient calculation\n",
    "    with torch.no_grad():\n",
    "        for data in data_loader:\n",
    "            reviews = data['review']\n",
    "            targets = data['target']\n",
    "            reviews = reviews.to(device, dtype = torch.long)\n",
    "            targets = targets.to(device, dtype=torch.float)\n",
    "            # make prediction\n",
    "            predictions = model(reviews)\n",
    "            # move prediction and target to cpu\n",
    "            predictions = predictions.cpu().numpy().tolist()\n",
    "            targets = targets.cpu().numpy().tolist()\n",
    "            # add predictions to final_prediction\n",
    "            final_predictions.extend(predictions)\n",
    "            final_targets.extend(targets)\n",
    "    return final_predictions, final_targets"
   ]
  },
  {
   "cell_type": "code",
   "execution_count": 22,
   "metadata": {},
   "outputs": [],
   "source": [
    "def create_embedding_matrix(word_index, embedding_dict=None, dim=300):\n",
    "    \"\"\"\n",
    "     this function create the embedding matrix save in numpy array\n",
    "    :param word_index: a dictionary with word: index_value\n",
    "    :param embedding_dict: a dict with word embedding\n",
    "    :d_model: the dimension of word pretrained embedding\n",
    "    :return a numpy array with embedding vectors for all known words\n",
    "    \"\"\"\n",
    "    embedding_matrix = np.zeros((len(word_index) + 1, dim))\n",
    "    ## loop over all the words\n",
    "    for word, index in word_index.items():\n",
    "        if word in embedding_dict:\n",
    "            embedding_matrix[index] = embedding_dict[word]\n",
    "    return embedding_matrix\n",
    "\n",
    "# embedding_dict['word'] = vector\n",
    "# word_index['word'] = index\n",
    "# embedding_matrix[index] = vector"
   ]
  },
  {
   "cell_type": "code",
   "execution_count": 23,
   "metadata": {},
   "outputs": [
    {
     "data": {
      "text/plain": [
       "['Bu yorumu üçüncü defadır yazıyorum inatla ve beyazperde de her nedense aynı inatla yayına almadı bir türlü yazımı :(((Filmi izledikten sonra beyazperde.com’daki künyesinde türünün eksik yazıldığını farkettim. Korku ve bilimkurgunun yanı sıra bir komedi filmi de Undead...Korku, bilimkurgu ve komedi unsurlarının harmanlanması sıradışı bir fikir aslında. Ancak ne var ki, filmdeki oyunculuk performansları yerlerde sürünüyor ve filmin kalitesine ciddi darbe vurmakta bu husus. Onun dışında, diyaloglarının da zayıf kaldığı başka bir gerçek filmle ilgili...Filmin olumsuz yanlarının yanında olumlu yanları da var şüphesiz. Undead’de en çok beğendiğim şey özel efektler oldu. Özel efekt delisi değilim esasen ancak, bilimkurgu unsurlarının inandırıcılığı açısından önemli olan özel efekt konusu Undead’de başarılı bana göre. Ancak özel efektlerinin ve konusunun dışında filmde kayda değer başka birşey gördüm desem yalan olur...İzlemezseniz pek pişman olmazsınız bana göre. Yine de karar sizin :)))\\n',\n",
       " 'Ne bir konusu ne bir kurgusu ne de kayda değer bir öyküsü olmayan.Çok sıkıcı, evde seyrederken 8x hızıyla seyrettim ve hiç kaybım olmadı.Seyretmek konusunda çok ısrarcı olmaya gerek yok.4/10\\n',\n",
       " \"Filmin yarış sahneleri, enfes çekilmiş. Aşağıda bir üyenin yazdığı gibi, 'filmin içine giriyorsunuz'...\\n\",\n",
       " 'sinematografik açıdan sıkıcı, durağan tarihsel açıdan çarpık peki nasıl 7 dalda oscarlık? oscarlık tarihi balon 0,5/5\\n',\n",
       " 'filmi bir saat önce seyrettim ve hayalkırıklığına uğradığımı itiraf etmeliyim.filimde mantık hataları fazla yer tutmuş görsel anlamda tatmin oldum fakat konu itibariyle bana göre çok kötü ve harkesin dediği gibi son sahne çok anlamsız aniden ortadan yok olmarı çok saçma bu kadar zeki olupta böyle büyük bir hata nasıl yaparlar anlamak mümkün değil biz bile yeyip içtiğimiz şeylere dikkat ediyoruz birde yıllardır bizi gözetleyip inceliyorlarmış kısaca 116 dakika sonra filimden aklınızda pek birşey kalmıyor başka bir dünyalar savaşı daha geleceği söyleniyordu sanırım asıl beklediğimiz o almalıydı olmamış bu defa yapamamış\\n']"
      ]
     },
     "execution_count": 23,
     "metadata": {},
     "output_type": "execute_result"
    }
   ],
   "source": [
    "traindf['review'].values.tolist()[:5] # list of sentences"
   ]
  },
  {
   "cell_type": "code",
   "execution_count": 24,
   "metadata": {},
   "outputs": [],
   "source": [
    "# STEP 1: Tokenization\n",
    "# use tf.keras for tokenization,  \n",
    "tokenizer = tf.keras.preprocessing.text.Tokenizer()\n",
    "tokenizer.fit_on_texts(traindf['review'].values.tolist())"
   ]
  },
  {
   "cell_type": "code",
   "execution_count": 25,
   "metadata": {},
   "outputs": [
    {
     "name": "stdout",
     "output_type": "stream",
     "text": [
      "Load embeddings\n",
      "training model\n"
     ]
    },
    {
     "name": "stderr",
     "output_type": "stream",
     "text": [
      " 20%|██        | 1/5 [00:06<00:25,  6.31s/it]"
     ]
    },
    {
     "name": "stdout",
     "output_type": "stream",
     "text": [
      "FOLD:0, epoch: 0, accuracy_score: 0.7913043478260869\n"
     ]
    },
    {
     "name": "stderr",
     "output_type": "stream",
     "text": [
      " 40%|████      | 2/5 [00:12<00:18,  6.24s/it]"
     ]
    },
    {
     "name": "stdout",
     "output_type": "stream",
     "text": [
      "FOLD:0, epoch: 1, accuracy_score: 0.8211180124223603\n"
     ]
    },
    {
     "name": "stderr",
     "output_type": "stream",
     "text": [
      " 60%|██████    | 3/5 [00:18<00:12,  6.14s/it]"
     ]
    },
    {
     "name": "stdout",
     "output_type": "stream",
     "text": [
      "FOLD:0, epoch: 2, accuracy_score: 0.8291925465838509\n"
     ]
    },
    {
     "name": "stderr",
     "output_type": "stream",
     "text": [
      " 80%|████████  | 4/5 [00:25<00:06,  6.37s/it]"
     ]
    },
    {
     "name": "stdout",
     "output_type": "stream",
     "text": [
      "FOLD:0, epoch: 3, accuracy_score: 0.8391304347826087\n"
     ]
    },
    {
     "name": "stderr",
     "output_type": "stream",
     "text": [
      "100%|██████████| 5/5 [00:32<00:00,  6.58s/it]"
     ]
    },
    {
     "name": "stdout",
     "output_type": "stream",
     "text": [
      "FOLD:0, epoch: 4, accuracy_score: 0.8354037267080745\n"
     ]
    },
    {
     "name": "stderr",
     "output_type": "stream",
     "text": [
      "\n"
     ]
    },
    {
     "name": "stdout",
     "output_type": "stream",
     "text": [
      "training model\n"
     ]
    },
    {
     "name": "stderr",
     "output_type": "stream",
     "text": [
      " 20%|██        | 1/5 [00:06<00:24,  6.05s/it]"
     ]
    },
    {
     "name": "stdout",
     "output_type": "stream",
     "text": [
      "FOLD:1, epoch: 0, accuracy_score: 0.8307453416149069\n"
     ]
    },
    {
     "name": "stderr",
     "output_type": "stream",
     "text": [
      " 40%|████      | 2/5 [00:14<00:22,  7.42s/it]"
     ]
    },
    {
     "name": "stdout",
     "output_type": "stream",
     "text": [
      "FOLD:1, epoch: 1, accuracy_score: 0.8397515527950311\n"
     ]
    },
    {
     "name": "stderr",
     "output_type": "stream",
     "text": [
      " 60%|██████    | 3/5 [00:21<00:14,  7.36s/it]"
     ]
    },
    {
     "name": "stdout",
     "output_type": "stream",
     "text": [
      "FOLD:1, epoch: 2, accuracy_score: 0.8391304347826087\n"
     ]
    },
    {
     "name": "stderr",
     "output_type": "stream",
     "text": [
      " 80%|████████  | 4/5 [00:28<00:07,  7.22s/it]"
     ]
    },
    {
     "name": "stdout",
     "output_type": "stream",
     "text": [
      "FOLD:1, epoch: 3, accuracy_score: 0.8360248447204969\n"
     ]
    },
    {
     "name": "stderr",
     "output_type": "stream",
     "text": [
      "100%|██████████| 5/5 [00:34<00:00,  6.98s/it]"
     ]
    },
    {
     "name": "stdout",
     "output_type": "stream",
     "text": [
      "FOLD:1, epoch: 4, accuracy_score: 0.846583850931677\n"
     ]
    },
    {
     "name": "stderr",
     "output_type": "stream",
     "text": [
      "\n"
     ]
    },
    {
     "name": "stdout",
     "output_type": "stream",
     "text": [
      "training model\n"
     ]
    },
    {
     "name": "stderr",
     "output_type": "stream",
     "text": [
      " 20%|██        | 1/5 [00:07<00:28,  7.10s/it]"
     ]
    },
    {
     "name": "stdout",
     "output_type": "stream",
     "text": [
      "FOLD:2, epoch: 0, accuracy_score: 0.8049689440993789\n"
     ]
    },
    {
     "name": "stderr",
     "output_type": "stream",
     "text": [
      " 40%|████      | 2/5 [00:13<00:20,  6.69s/it]"
     ]
    },
    {
     "name": "stdout",
     "output_type": "stream",
     "text": [
      "FOLD:2, epoch: 1, accuracy_score: 0.8229813664596274\n"
     ]
    },
    {
     "name": "stderr",
     "output_type": "stream",
     "text": [
      " 60%|██████    | 3/5 [00:20<00:13,  6.93s/it]"
     ]
    },
    {
     "name": "stdout",
     "output_type": "stream",
     "text": [
      "FOLD:2, epoch: 2, accuracy_score: 0.8301242236024845\n"
     ]
    },
    {
     "name": "stderr",
     "output_type": "stream",
     "text": [
      " 80%|████████  | 4/5 [00:26<00:06,  6.66s/it]"
     ]
    },
    {
     "name": "stdout",
     "output_type": "stream",
     "text": [
      "FOLD:2, epoch: 3, accuracy_score: 0.8319875776397515\n"
     ]
    },
    {
     "name": "stderr",
     "output_type": "stream",
     "text": [
      "100%|██████████| 5/5 [00:33<00:00,  6.63s/it]"
     ]
    },
    {
     "name": "stdout",
     "output_type": "stream",
     "text": [
      "FOLD:2, epoch: 4, accuracy_score: 0.8326086956521739\n"
     ]
    },
    {
     "name": "stderr",
     "output_type": "stream",
     "text": [
      "\n"
     ]
    },
    {
     "name": "stdout",
     "output_type": "stream",
     "text": [
      "training model\n"
     ]
    },
    {
     "name": "stderr",
     "output_type": "stream",
     "text": [
      " 20%|██        | 1/5 [00:06<00:24,  6.14s/it]"
     ]
    },
    {
     "name": "stdout",
     "output_type": "stream",
     "text": [
      "FOLD:3, epoch: 0, accuracy_score: 0.8332298136645963\n"
     ]
    },
    {
     "name": "stderr",
     "output_type": "stream",
     "text": [
      " 40%|████      | 2/5 [00:12<00:18,  6.05s/it]"
     ]
    },
    {
     "name": "stdout",
     "output_type": "stream",
     "text": [
      "FOLD:3, epoch: 1, accuracy_score: 0.8428571428571429\n"
     ]
    },
    {
     "name": "stderr",
     "output_type": "stream",
     "text": [
      " 60%|██████    | 3/5 [00:18<00:12,  6.15s/it]"
     ]
    },
    {
     "name": "stdout",
     "output_type": "stream",
     "text": [
      "FOLD:3, epoch: 2, accuracy_score: 0.84472049689441\n"
     ]
    },
    {
     "name": "stderr",
     "output_type": "stream",
     "text": [
      " 80%|████████  | 4/5 [00:26<00:06,  6.89s/it]"
     ]
    },
    {
     "name": "stdout",
     "output_type": "stream",
     "text": [
      "FOLD:3, epoch: 3, accuracy_score: 0.8403726708074534\n"
     ]
    },
    {
     "name": "stderr",
     "output_type": "stream",
     "text": [
      "100%|██████████| 5/5 [00:32<00:00,  6.53s/it]"
     ]
    },
    {
     "name": "stdout",
     "output_type": "stream",
     "text": [
      "FOLD:3, epoch: 4, accuracy_score: 0.8369565217391305\n"
     ]
    },
    {
     "name": "stderr",
     "output_type": "stream",
     "text": [
      "\n"
     ]
    },
    {
     "name": "stdout",
     "output_type": "stream",
     "text": [
      "training model\n"
     ]
    },
    {
     "name": "stderr",
     "output_type": "stream",
     "text": [
      " 20%|██        | 1/5 [00:05<00:23,  5.94s/it]"
     ]
    },
    {
     "name": "stdout",
     "output_type": "stream",
     "text": [
      "FOLD:4, epoch: 0, accuracy_score: 0.8509316770186336\n"
     ]
    },
    {
     "name": "stderr",
     "output_type": "stream",
     "text": [
      " 40%|████      | 2/5 [00:11<00:17,  5.92s/it]"
     ]
    },
    {
     "name": "stdout",
     "output_type": "stream",
     "text": [
      "FOLD:4, epoch: 1, accuracy_score: 0.8614906832298137\n"
     ]
    },
    {
     "name": "stderr",
     "output_type": "stream",
     "text": [
      " 60%|██████    | 3/5 [00:17<00:11,  5.99s/it]"
     ]
    },
    {
     "name": "stdout",
     "output_type": "stream",
     "text": [
      "FOLD:4, epoch: 2, accuracy_score: 0.8701863354037267\n"
     ]
    },
    {
     "name": "stderr",
     "output_type": "stream",
     "text": [
      " 80%|████████  | 4/5 [00:24<00:06,  6.35s/it]"
     ]
    },
    {
     "name": "stdout",
     "output_type": "stream",
     "text": [
      "FOLD:4, epoch: 3, accuracy_score: 0.8717391304347826\n"
     ]
    },
    {
     "name": "stderr",
     "output_type": "stream",
     "text": [
      "100%|██████████| 5/5 [00:30<00:00,  6.20s/it]"
     ]
    },
    {
     "name": "stdout",
     "output_type": "stream",
     "text": [
      "FOLD:4, epoch: 4, accuracy_score: 0.8729813664596273\n"
     ]
    },
    {
     "name": "stderr",
     "output_type": "stream",
     "text": [
      "\n"
     ]
    }
   ],
   "source": [
    "print('Load embeddings')\n",
    "embedding_matrix = create_embedding_matrix(tokenizer.word_index, embedding_dict=word_vectors, dim=DIM)\n",
    "\n",
    "\n",
    "for fold in range(5):\n",
    "    # STEP 2: cross validation\n",
    "    train_df = traindf[traindf.kfold != fold].reset_index(drop=True)\n",
    "    valid_df = traindf[traindf.kfold == fold].reset_index(drop=True)\n",
    "    \n",
    "    # STEP 3: pad sequence\n",
    "    xtrain = tokenizer.texts_to_sequences(train_df.review.values)\n",
    "    xtest = tokenizer.texts_to_sequences(valid_df.review.values)\n",
    "    \n",
    "    # zero padding\n",
    "    xtrain = tf.keras.preprocessing.sequence.pad_sequences(xtrain, maxlen=MAX_LEN)\n",
    "    xtest = tf.keras.preprocessing.sequence.pad_sequences(xtest, maxlen=MAX_LEN)\n",
    "    \n",
    "    # STEP 4: initialize dataset class for training\n",
    "    train_dataset = Dataset(reviews=xtrain, targets=train_df['sentiment'].values)\n",
    "    \n",
    "    # STEP 5: Load dataset to Pytorch DataLoader\n",
    "    # after we have train_dataset, we create a torch dataloader to load train_dataset class based on specified batch_size\n",
    "    train_data_loader = torch.utils.data.DataLoader(train_dataset, batch_size = TRAIN_BATCH_SIZE, num_workers=2)\n",
    "    # initialize dataset class for validation\n",
    "    valid_dataset = Dataset(reviews=xtest, targets=valid_df['sentiment'].values)\n",
    "    valid_data_loader = torch.utils.data.DataLoader(valid_dataset, batch_size = VALID_BATCH_SIZE, num_workers=1)\n",
    "    \n",
    "    # STEP 6: Running \n",
    "    device = torch.device('cuda')\n",
    "    # feed embedding matrix to lstm\n",
    "    model_fasttext = LSTM(embedding_matrix)\n",
    "    # set model to cuda device\n",
    "    model_fasttext.to(device)\n",
    "    # initialize Adam optimizer\n",
    "    optimizer = torch.optim.Adam(model_fasttext.parameters(), lr=1e-3)\n",
    "    \n",
    "    print('training model')\n",
    "\n",
    "    for epoch in tqdm(range(EPOCHS)):\n",
    "        # train one epoch\n",
    "        train(train_data_loader, model_fasttext, optimizer, device)\n",
    "        # validate\n",
    "        outputs, targets = evaluate(valid_data_loader, model_fasttext, device)\n",
    "        # threshold\n",
    "        outputs = np.array(outputs) >= 0.5\n",
    "        # calculate accuracy\n",
    "        accuracy = metrics.accuracy_score(targets, outputs)\n",
    "        print(f'FOLD:{fold}, epoch: {epoch}, accuracy_score: {accuracy}')"
   ]
  },
  {
   "cell_type": "code",
   "execution_count": 26,
   "metadata": {},
   "outputs": [
    {
     "name": "stdout",
     "output_type": "stream",
     "text": [
      "accuracy_score: 0.8803088803088803\n"
     ]
    }
   ],
   "source": [
    "# test on test set testdf and testy\n",
    "xtest = tokenizer.texts_to_sequences(testdf.review.values)\n",
    "xtest = tf.keras.preprocessing.sequence.pad_sequences(xtest, maxlen=MAX_LEN)\n",
    "test_dataset = Dataset(reviews=xtest, targets=testy)\n",
    "test_data_loader = torch.utils.data.DataLoader(test_dataset, batch_size = VALID_BATCH_SIZE, num_workers=1)\n",
    "outputs, targets = evaluate(test_data_loader, model_fasttext, device)\n",
    "outputs = np.array(outputs) >= 0.5\n",
    "accuracy = metrics.accuracy_score(targets, outputs)\n",
    "print(f'accuracy_score: {accuracy}')"
   ]
  },
  {
   "cell_type": "code",
   "execution_count": null,
   "metadata": {},
   "outputs": [],
   "source": [
    "import seaborn as sn\n",
    "# In the confusion matrix, the rows represent the actual number of positive and negative documents in the test set, \n",
    "# whereas the columns represent what the model has predicted. \n",
    "cm = metrics.confusion_matrix(targets, outputs)\n",
    "sn.heatmap(cm, annot=True, fmt = '.2f')"
   ]
  },
  {
   "cell_type": "code",
   "execution_count": null,
   "metadata": {},
   "outputs": [],
   "source": [
    "from torchmetrics.classification import BinaryF1Score\n",
    "metric = BinaryF1Score()\n",
    "metric(torch.tensor(targets).reshape(-1, 1), torch.tensor(outputs).reshape(-1, 1))"
   ]
  },
  {
   "attachments": {},
   "cell_type": "markdown",
   "metadata": {},
   "source": [
    "### Dataset #2 "
   ]
  },
  {
   "cell_type": "code",
   "execution_count": 48,
   "metadata": {},
   "outputs": [],
   "source": [
    "# read train and test csv\n",
    "traindf = pd.read_csv(\"data2/train.csv\")\n",
    "testdf = pd.read_csv(\"data2/test.csv\")"
   ]
  },
  {
   "cell_type": "code",
   "execution_count": 13,
   "metadata": {},
   "outputs": [
    {
     "data": {
      "text/plain": [
       "(235949, 50905, 153825, 286854)"
      ]
     },
     "execution_count": 13,
     "metadata": {},
     "output_type": "execute_result"
    }
   ],
   "source": [
    "positive = len(traindf[traindf.label == \"Positive\"])\n",
    "negative = len(traindf[traindf.label == \"Negative\"])\n",
    "neutral = len(traindf[traindf.label == \"Notr\"])\n",
    "positive, negative, neutral, positive + negative"
   ]
  },
  {
   "cell_type": "code",
   "execution_count": null,
   "metadata": {},
   "outputs": [],
   "source": [
    "# get label\n",
    "trainy = traindf['sentiment'].values\n",
    "testy = testdf['sentiment'].values"
   ]
  },
  {
   "cell_type": "code",
   "execution_count": 34,
   "metadata": {},
   "outputs": [
    {
     "data": {
      "text/html": [
       "<div>\n",
       "<style scoped>\n",
       "    .dataframe tbody tr th:only-of-type {\n",
       "        vertical-align: middle;\n",
       "    }\n",
       "\n",
       "    .dataframe tbody tr th {\n",
       "        vertical-align: top;\n",
       "    }\n",
       "\n",
       "    .dataframe thead th {\n",
       "        text-align: right;\n",
       "    }\n",
       "</style>\n",
       "<table border=\"1\" class=\"dataframe\">\n",
       "  <thead>\n",
       "    <tr style=\"text-align: right;\">\n",
       "      <th></th>\n",
       "      <th>text</th>\n",
       "      <th>label</th>\n",
       "      <th>dataset</th>\n",
       "    </tr>\n",
       "  </thead>\n",
       "  <tbody>\n",
       "    <tr>\n",
       "      <th>0</th>\n",
       "      <td>ürünü hepsiburadadan alalı 3 hafta oldu. orjin...</td>\n",
       "      <td>Positive</td>\n",
       "      <td>urun_yorumlari</td>\n",
       "    </tr>\n",
       "    <tr>\n",
       "      <th>1</th>\n",
       "      <td>ürünlerden çok memnunum, kesinlikle herkese ta...</td>\n",
       "      <td>Positive</td>\n",
       "      <td>urun_yorumlari</td>\n",
       "    </tr>\n",
       "    <tr>\n",
       "      <th>2</th>\n",
       "      <td>hızlı kargo, temiz alışveriş.teşekkür ederim.</td>\n",
       "      <td>Positive</td>\n",
       "      <td>urun_yorumlari</td>\n",
       "    </tr>\n",
       "    <tr>\n",
       "      <th>3</th>\n",
       "      <td>Çünkü aranan tapınak bu bölgededir .</td>\n",
       "      <td>Notr</td>\n",
       "      <td>wiki</td>\n",
       "    </tr>\n",
       "    <tr>\n",
       "      <th>4</th>\n",
       "      <td>bu telefonu başlıca alma nedenlerim ise elimde...</td>\n",
       "      <td>Positive</td>\n",
       "      <td>urun_yorumlari</td>\n",
       "    </tr>\n",
       "    <tr>\n",
       "      <th>...</th>\n",
       "      <td>...</td>\n",
       "      <td>...</td>\n",
       "      <td>...</td>\n",
       "    </tr>\n",
       "    <tr>\n",
       "      <th>440674</th>\n",
       "      <td>Ayrıca burç yorumları ve çapraz bulmaca da der...</td>\n",
       "      <td>Notr</td>\n",
       "      <td>wiki</td>\n",
       "    </tr>\n",
       "    <tr>\n",
       "      <th>440675</th>\n",
       "      <td>günümüz de ssd olmazsa olmaz bir donanım artık...</td>\n",
       "      <td>Positive</td>\n",
       "      <td>urun_yorumlari</td>\n",
       "    </tr>\n",
       "    <tr>\n",
       "      <th>440676</th>\n",
       "      <td>kullandım ve çok memnun kaldım. ocak başında d...</td>\n",
       "      <td>Positive</td>\n",
       "      <td>urun_yorumlari</td>\n",
       "    </tr>\n",
       "    <tr>\n",
       "      <th>440677</th>\n",
       "      <td>Adını Lenkeran şehrinden almıştır .</td>\n",
       "      <td>Notr</td>\n",
       "      <td>wiki</td>\n",
       "    </tr>\n",
       "    <tr>\n",
       "      <th>440678</th>\n",
       "      <td>Bu dergilerde sosyalist teori ve siyasete iliş...</td>\n",
       "      <td>Notr</td>\n",
       "      <td>wiki</td>\n",
       "    </tr>\n",
       "  </tbody>\n",
       "</table>\n",
       "<p>440679 rows × 3 columns</p>\n",
       "</div>"
      ],
      "text/plain": [
       "                                                     text     label   \n",
       "0       ürünü hepsiburadadan alalı 3 hafta oldu. orjin...  Positive  \\\n",
       "1       ürünlerden çok memnunum, kesinlikle herkese ta...  Positive   \n",
       "2           hızlı kargo, temiz alışveriş.teşekkür ederim.  Positive   \n",
       "3                    Çünkü aranan tapınak bu bölgededir .      Notr   \n",
       "4       bu telefonu başlıca alma nedenlerim ise elimde...  Positive   \n",
       "...                                                   ...       ...   \n",
       "440674  Ayrıca burç yorumları ve çapraz bulmaca da der...      Notr   \n",
       "440675  günümüz de ssd olmazsa olmaz bir donanım artık...  Positive   \n",
       "440676  kullandım ve çok memnun kaldım. ocak başında d...  Positive   \n",
       "440677                Adını Lenkeran şehrinden almıştır .      Notr   \n",
       "440678  Bu dergilerde sosyalist teori ve siyasete iliş...      Notr   \n",
       "\n",
       "               dataset  \n",
       "0       urun_yorumlari  \n",
       "1       urun_yorumlari  \n",
       "2       urun_yorumlari  \n",
       "3                 wiki  \n",
       "4       urun_yorumlari  \n",
       "...                ...  \n",
       "440674            wiki  \n",
       "440675  urun_yorumlari  \n",
       "440676  urun_yorumlari  \n",
       "440677            wiki  \n",
       "440678            wiki  \n",
       "\n",
       "[440679 rows x 3 columns]"
      ]
     },
     "execution_count": 34,
     "metadata": {},
     "output_type": "execute_result"
    }
   ],
   "source": [
    "traindf"
   ]
  },
  {
   "cell_type": "code",
   "execution_count": 49,
   "metadata": {},
   "outputs": [],
   "source": [
    "traindf = traindf.rename(columns={'label': 'sentiment', 'text': 'review'})\n",
    "traindf = traindf.drop(columns=['dataset'])\n",
    "traindf = traindf[traindf['sentiment'] != 'Notr']\n",
    "\n",
    "traindf['sentiment'] = traindf['sentiment'].map({'Positive': 1, 'Negative': 0})"
   ]
  },
  {
   "cell_type": "code",
   "execution_count": 44,
   "metadata": {},
   "outputs": [
    {
     "data": {
      "text/html": [
       "<div>\n",
       "<style scoped>\n",
       "    .dataframe tbody tr th:only-of-type {\n",
       "        vertical-align: middle;\n",
       "    }\n",
       "\n",
       "    .dataframe tbody tr th {\n",
       "        vertical-align: top;\n",
       "    }\n",
       "\n",
       "    .dataframe thead th {\n",
       "        text-align: right;\n",
       "    }\n",
       "</style>\n",
       "<table border=\"1\" class=\"dataframe\">\n",
       "  <thead>\n",
       "    <tr style=\"text-align: right;\">\n",
       "      <th></th>\n",
       "      <th>review</th>\n",
       "      <th>sentiment</th>\n",
       "    </tr>\n",
       "  </thead>\n",
       "  <tbody>\n",
       "    <tr>\n",
       "      <th>0</th>\n",
       "      <td>ürünü hepsiburadadan alalı 3 hafta oldu. orjin...</td>\n",
       "      <td>1</td>\n",
       "    </tr>\n",
       "    <tr>\n",
       "      <th>1</th>\n",
       "      <td>ürünlerden çok memnunum, kesinlikle herkese ta...</td>\n",
       "      <td>1</td>\n",
       "    </tr>\n",
       "    <tr>\n",
       "      <th>2</th>\n",
       "      <td>hızlı kargo, temiz alışveriş.teşekkür ederim.</td>\n",
       "      <td>1</td>\n",
       "    </tr>\n",
       "    <tr>\n",
       "      <th>4</th>\n",
       "      <td>bu telefonu başlıca alma nedenlerim ise elimde...</td>\n",
       "      <td>1</td>\n",
       "    </tr>\n",
       "    <tr>\n",
       "      <th>5</th>\n",
       "      <td>telefon gayet güzel ben kırmızı aldım baya şık...</td>\n",
       "      <td>1</td>\n",
       "    </tr>\n",
       "    <tr>\n",
       "      <th>...</th>\n",
       "      <td>...</td>\n",
       "      <td>...</td>\n",
       "    </tr>\n",
       "    <tr>\n",
       "      <th>440668</th>\n",
       "      <td>güzel, şık bir ürün. fiyat da iyi.</td>\n",
       "      <td>1</td>\n",
       "    </tr>\n",
       "    <tr>\n",
       "      <th>440669</th>\n",
       "      <td>ürün güzel tek eksiği sanki kablo biraz kısa v...</td>\n",
       "      <td>1</td>\n",
       "    </tr>\n",
       "    <tr>\n",
       "      <th>440673</th>\n",
       "      <td>bu üründen buradan defalarca satın aldım. hep ...</td>\n",
       "      <td>1</td>\n",
       "    </tr>\n",
       "    <tr>\n",
       "      <th>440675</th>\n",
       "      <td>günümüz de ssd olmazsa olmaz bir donanım artık...</td>\n",
       "      <td>1</td>\n",
       "    </tr>\n",
       "    <tr>\n",
       "      <th>440676</th>\n",
       "      <td>kullandım ve çok memnun kaldım. ocak başında d...</td>\n",
       "      <td>1</td>\n",
       "    </tr>\n",
       "  </tbody>\n",
       "</table>\n",
       "<p>286854 rows × 2 columns</p>\n",
       "</div>"
      ],
      "text/plain": [
       "                                                   review  sentiment\n",
       "0       ürünü hepsiburadadan alalı 3 hafta oldu. orjin...          1\n",
       "1       ürünlerden çok memnunum, kesinlikle herkese ta...          1\n",
       "2           hızlı kargo, temiz alışveriş.teşekkür ederim.          1\n",
       "4       bu telefonu başlıca alma nedenlerim ise elimde...          1\n",
       "5       telefon gayet güzel ben kırmızı aldım baya şık...          1\n",
       "...                                                   ...        ...\n",
       "440668                 güzel, şık bir ürün. fiyat da iyi.          1\n",
       "440669  ürün güzel tek eksiği sanki kablo biraz kısa v...          1\n",
       "440673  bu üründen buradan defalarca satın aldım. hep ...          1\n",
       "440675  günümüz de ssd olmazsa olmaz bir donanım artık...          1\n",
       "440676  kullandım ve çok memnun kaldım. ocak başında d...          1\n",
       "\n",
       "[286854 rows x 2 columns]"
      ]
     },
     "execution_count": 44,
     "metadata": {},
     "output_type": "execute_result"
    }
   ],
   "source": [
    "traindf"
   ]
  },
  {
   "cell_type": "code",
   "execution_count": 50,
   "metadata": {},
   "outputs": [],
   "source": [
    "traindf.to_csv('data2/trainx.csv', index=False)"
   ]
  },
  {
   "cell_type": "code",
   "execution_count": 51,
   "metadata": {},
   "outputs": [],
   "source": [
    "testdf = testdf.rename(columns={'label': 'sentiment', 'text': 'review'})\n",
    "testdf = testdf.drop(columns=['dataset'])\n",
    "testdf = testdf[testdf['sentiment'] != 'Notr']\n",
    "\n",
    "testdf['sentiment'] = testdf['sentiment'].map({'Positive': 1, 'Negative': 0})"
   ]
  },
  {
   "cell_type": "code",
   "execution_count": 52,
   "metadata": {},
   "outputs": [],
   "source": [
    "testdf.to_csv('data2/testx.csv', index=False)"
   ]
  },
  {
   "cell_type": "code",
   "execution_count": 4,
   "metadata": {},
   "outputs": [],
   "source": [
    "outputs = torch.tensor([[0.7, 0.3], [0.49, 0.51]])\n",
    "targets = torch.tensor([[0, 1], [0, 1]])"
   ]
  },
  {
   "cell_type": "code",
   "execution_count": 5,
   "metadata": {},
   "outputs": [
    {
     "data": {
      "text/plain": [
       "tensor([False,  True])"
      ]
     },
     "execution_count": 5,
     "metadata": {},
     "output_type": "execute_result"
    }
   ],
   "source": [
    "torch.argmax(outputs, 1) == torch.argmax(targets, 1)"
   ]
  },
  {
   "cell_type": "code",
   "execution_count": null,
   "metadata": {},
   "outputs": [],
   "source": []
  }
 ],
 "metadata": {
  "kernelspec": {
   "display_name": "env",
   "language": "python",
   "name": "python3"
  },
  "language_info": {
   "codemirror_mode": {
    "name": "ipython",
    "version": 3
   },
   "file_extension": ".py",
   "mimetype": "text/x-python",
   "name": "python",
   "nbconvert_exporter": "python",
   "pygments_lexer": "ipython3",
   "version": "3.9.13"
  },
  "orig_nbformat": 4
 },
 "nbformat": 4,
 "nbformat_minor": 2
}
